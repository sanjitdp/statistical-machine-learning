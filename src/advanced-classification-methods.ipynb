{
 "cells": [
  {
   "cell_type": "markdown",
   "source": [
    "# Importing Libraries"
   ],
   "metadata": {
    "collapsed": false,
    "pycharm": {
     "name": "#%% md\n"
    }
   }
  },
  {
   "cell_type": "code",
   "execution_count": 1,
   "outputs": [],
   "source": [
    "import pandas as pd\n",
    "import numpy as np\n",
    "import matplotlib.pyplot as plt\n",
    "from sklearn.model_selection import train_test_split\n",
    "from sklearn.tree import DecisionTreeClassifier, export_text\n",
    "from sklearn.metrics import confusion_matrix\n",
    "from sklearn.model_selection import cross_val_score, GridSearchCV\n",
    "from sklearn.ensemble import GradientBoostingClassifier, BaggingClassifier, RandomForestClassifier\n",
    "from sklearn.svm import SVC"
   ],
   "metadata": {
    "collapsed": false,
    "pycharm": {
     "name": "#%%\n"
    }
   }
  },
  {
   "cell_type": "markdown",
   "source": [
    "# Loading Data"
   ],
   "metadata": {
    "collapsed": false,
    "pycharm": {
     "name": "#%% md\n"
    }
   }
  },
  {
   "cell_type": "code",
   "execution_count": 2,
   "outputs": [
    {
     "data": {
      "text/plain": "  Purchase  WeekofPurchase  StoreID  PriceCH  PriceMM  DiscCH  DiscMM  \\\n0       CH             237        1     1.75     1.99    0.00     0.0   \n1       CH             239        1     1.75     1.99    0.00     0.3   \n2       CH             245        1     1.86     2.09    0.17     0.0   \n3       MM             227        1     1.69     1.69    0.00     0.0   \n4       CH             228        7     1.69     1.69    0.00     0.0   \n\n   SpecialCH  SpecialMM   LoyalCH  SalePriceMM  SalePriceCH  PriceDiff  \\\n0          0          0  0.500000         1.99         1.75       0.24   \n1          0          1  0.600000         1.69         1.75      -0.06   \n2          0          0  0.680000         2.09         1.69       0.40   \n3          0          0  0.400000         1.69         1.69       0.00   \n4          0          0  0.956535         1.69         1.69       0.00   \n\n   Store7  PctDiscMM  PctDiscCH  ListPriceDiff  STORE  \n0       0   0.000000   0.000000           0.24      1  \n1       0   0.150754   0.000000           0.24      1  \n2       0   0.000000   0.091398           0.23      1  \n3       0   0.000000   0.000000           0.00      1  \n4       1   0.000000   0.000000           0.00      0  ",
      "text/html": "<div>\n<style scoped>\n    .dataframe tbody tr th:only-of-type {\n        vertical-align: middle;\n    }\n\n    .dataframe tbody tr th {\n        vertical-align: top;\n    }\n\n    .dataframe thead th {\n        text-align: right;\n    }\n</style>\n<table border=\"1\" class=\"dataframe\">\n  <thead>\n    <tr style=\"text-align: right;\">\n      <th></th>\n      <th>Purchase</th>\n      <th>WeekofPurchase</th>\n      <th>StoreID</th>\n      <th>PriceCH</th>\n      <th>PriceMM</th>\n      <th>DiscCH</th>\n      <th>DiscMM</th>\n      <th>SpecialCH</th>\n      <th>SpecialMM</th>\n      <th>LoyalCH</th>\n      <th>SalePriceMM</th>\n      <th>SalePriceCH</th>\n      <th>PriceDiff</th>\n      <th>Store7</th>\n      <th>PctDiscMM</th>\n      <th>PctDiscCH</th>\n      <th>ListPriceDiff</th>\n      <th>STORE</th>\n    </tr>\n  </thead>\n  <tbody>\n    <tr>\n      <th>0</th>\n      <td>CH</td>\n      <td>237</td>\n      <td>1</td>\n      <td>1.75</td>\n      <td>1.99</td>\n      <td>0.00</td>\n      <td>0.0</td>\n      <td>0</td>\n      <td>0</td>\n      <td>0.500000</td>\n      <td>1.99</td>\n      <td>1.75</td>\n      <td>0.24</td>\n      <td>0</td>\n      <td>0.000000</td>\n      <td>0.000000</td>\n      <td>0.24</td>\n      <td>1</td>\n    </tr>\n    <tr>\n      <th>1</th>\n      <td>CH</td>\n      <td>239</td>\n      <td>1</td>\n      <td>1.75</td>\n      <td>1.99</td>\n      <td>0.00</td>\n      <td>0.3</td>\n      <td>0</td>\n      <td>1</td>\n      <td>0.600000</td>\n      <td>1.69</td>\n      <td>1.75</td>\n      <td>-0.06</td>\n      <td>0</td>\n      <td>0.150754</td>\n      <td>0.000000</td>\n      <td>0.24</td>\n      <td>1</td>\n    </tr>\n    <tr>\n      <th>2</th>\n      <td>CH</td>\n      <td>245</td>\n      <td>1</td>\n      <td>1.86</td>\n      <td>2.09</td>\n      <td>0.17</td>\n      <td>0.0</td>\n      <td>0</td>\n      <td>0</td>\n      <td>0.680000</td>\n      <td>2.09</td>\n      <td>1.69</td>\n      <td>0.40</td>\n      <td>0</td>\n      <td>0.000000</td>\n      <td>0.091398</td>\n      <td>0.23</td>\n      <td>1</td>\n    </tr>\n    <tr>\n      <th>3</th>\n      <td>MM</td>\n      <td>227</td>\n      <td>1</td>\n      <td>1.69</td>\n      <td>1.69</td>\n      <td>0.00</td>\n      <td>0.0</td>\n      <td>0</td>\n      <td>0</td>\n      <td>0.400000</td>\n      <td>1.69</td>\n      <td>1.69</td>\n      <td>0.00</td>\n      <td>0</td>\n      <td>0.000000</td>\n      <td>0.000000</td>\n      <td>0.00</td>\n      <td>1</td>\n    </tr>\n    <tr>\n      <th>4</th>\n      <td>CH</td>\n      <td>228</td>\n      <td>7</td>\n      <td>1.69</td>\n      <td>1.69</td>\n      <td>0.00</td>\n      <td>0.0</td>\n      <td>0</td>\n      <td>0</td>\n      <td>0.956535</td>\n      <td>1.69</td>\n      <td>1.69</td>\n      <td>0.00</td>\n      <td>1</td>\n      <td>0.000000</td>\n      <td>0.000000</td>\n      <td>0.00</td>\n      <td>0</td>\n    </tr>\n  </tbody>\n</table>\n</div>"
     },
     "execution_count": 2,
     "metadata": {},
     "output_type": "execute_result"
    }
   ],
   "source": [
    "oj = pd.read_csv(\"../data/OJ.csv\")\n",
    "oj.dropna(axis=0)\n",
    "oj[\"Store7\"] = [1 if item == \"Yes\" else 0 for item in oj[\"Store7\"]]\n",
    "oj.head()"
   ],
   "metadata": {
    "collapsed": false,
    "pycharm": {
     "name": "#%%\n"
    }
   }
  },
  {
   "cell_type": "code",
   "execution_count": 3,
   "outputs": [],
   "source": [
    "X = oj.drop(\"Purchase\", axis=1)\n",
    "y = oj[\"Purchase\"]\n",
    "\n",
    "X_train, X_test, y_train, y_test = train_test_split(X, y, train_size=800, random_state=0)"
   ],
   "metadata": {
    "collapsed": false,
    "pycharm": {
     "name": "#%%\n"
    }
   }
  },
  {
   "cell_type": "markdown",
   "source": [
    "# Decision Tree Classifier"
   ],
   "metadata": {
    "collapsed": false,
    "pycharm": {
     "name": "#%% md\n"
    }
   }
  },
  {
   "cell_type": "code",
   "execution_count": 4,
   "outputs": [
    {
     "data": {
      "text/plain": "[0.99125, 0.7296296296296296]"
     },
     "execution_count": 4,
     "metadata": {},
     "output_type": "execute_result"
    }
   ],
   "source": [
    "clf = DecisionTreeClassifier(random_state=0)\n",
    "clf.fit(X_train, y_train)\n",
    "[clf.score(X_train, y_train), clf.score(X_test, y_test)]"
   ],
   "metadata": {
    "collapsed": false,
    "pycharm": {
     "name": "#%%\n"
    }
   }
  },
  {
   "cell_type": "code",
   "execution_count": 5,
   "outputs": [
    {
     "name": "stdout",
     "output_type": "stream",
     "text": [
      "|--- feature_8 <= 0.51\n",
      "|   |--- feature_8 <= 0.28\n",
      "|   |   |--- feature_8 <= 0.06\n",
      "|   |   |   |--- feature_1 <= 1.50\n",
      "|   |   |   |   |--- feature_15 <= 0.15\n",
      "|   |   |   |   |   |--- class: CH\n",
      "|   |   |   |   |--- feature_15 >  0.15\n",
      "|   |   |   |   |   |--- class: MM\n",
      "|   |   |   |--- feature_1 >  1.50\n",
      "|   |   |   |   |--- feature_0 <= 268.50\n",
      "|   |   |   |   |   |--- class: MM\n",
      "|   |   |   |   |--- feature_0 >  268.50\n",
      "|   |   |   |   |   |--- feature_8 <= 0.00\n",
      "|   |   |   |   |   |   |--- class: MM\n",
      "|   |   |   |   |   |--- feature_8 >  0.00\n",
      "|   |   |   |   |   |   |--- class: CH\n",
      "|   |   |--- feature_8 >  0.06\n",
      "|   |   |   |--- feature_0 <= 273.50\n",
      "|   |   |   |   |--- feature_10 <= 1.94\n",
      "|   |   |   |   |   |--- feature_0 <= 263.50\n",
      "|   |   |   |   |   |   |--- feature_16 <= 1.50\n",
      "|   |   |   |   |   |   |   |--- feature_0 <= 228.00\n",
      "|   |   |   |   |   |   |   |   |--- class: CH\n",
      "|   |   |   |   |   |   |   |--- feature_0 >  228.00\n",
      "|   |   |   |   |   |   |   |   |--- feature_8 <= 0.13\n",
      "|   |   |   |   |   |   |   |   |   |--- feature_0 <= 235.50\n",
      "|   |   |   |   |   |   |   |   |   |   |--- feature_13 <= 0.10\n",
      "|   |   |   |   |   |   |   |   |   |   |   |--- class: MM\n",
      "|   |   |   |   |   |   |   |   |   |   |--- feature_13 >  0.10\n",
      "|   |   |   |   |   |   |   |   |   |   |   |--- class: CH\n",
      "|   |   |   |   |   |   |   |   |   |--- feature_0 >  235.50\n",
      "|   |   |   |   |   |   |   |   |   |   |--- class: MM\n",
      "|   |   |   |   |   |   |   |   |--- feature_8 >  0.13\n",
      "|   |   |   |   |   |   |   |   |   |--- feature_8 <= 0.15\n",
      "|   |   |   |   |   |   |   |   |   |   |--- class: CH\n",
      "|   |   |   |   |   |   |   |   |   |--- feature_8 >  0.15\n",
      "|   |   |   |   |   |   |   |   |   |   |--- feature_13 <= 0.05\n",
      "|   |   |   |   |   |   |   |   |   |   |   |--- truncated branch of depth 4\n",
      "|   |   |   |   |   |   |   |   |   |   |--- feature_13 >  0.05\n",
      "|   |   |   |   |   |   |   |   |   |   |   |--- truncated branch of depth 3\n",
      "|   |   |   |   |   |   |--- feature_16 >  1.50\n",
      "|   |   |   |   |   |   |   |--- feature_8 <= 0.06\n",
      "|   |   |   |   |   |   |   |   |--- class: CH\n",
      "|   |   |   |   |   |   |   |--- feature_8 >  0.06\n",
      "|   |   |   |   |   |   |   |   |--- feature_2 <= 1.88\n",
      "|   |   |   |   |   |   |   |   |   |--- class: MM\n",
      "|   |   |   |   |   |   |   |   |--- feature_2 >  1.88\n",
      "|   |   |   |   |   |   |   |   |   |--- feature_8 <= 0.17\n",
      "|   |   |   |   |   |   |   |   |   |   |--- class: MM\n",
      "|   |   |   |   |   |   |   |   |   |--- feature_8 >  0.17\n",
      "|   |   |   |   |   |   |   |   |   |   |--- class: CH\n",
      "|   |   |   |   |   |--- feature_0 >  263.50\n",
      "|   |   |   |   |   |   |--- feature_9 <= 2.12\n",
      "|   |   |   |   |   |   |   |--- feature_0 <= 272.50\n",
      "|   |   |   |   |   |   |   |   |--- class: MM\n",
      "|   |   |   |   |   |   |   |--- feature_0 >  272.50\n",
      "|   |   |   |   |   |   |   |   |--- class: CH\n",
      "|   |   |   |   |   |   |--- feature_9 >  2.12\n",
      "|   |   |   |   |   |   |   |--- class: CH\n",
      "|   |   |   |   |--- feature_10 >  1.94\n",
      "|   |   |   |   |   |--- feature_7 <= 0.50\n",
      "|   |   |   |   |   |   |--- feature_0 <= 252.50\n",
      "|   |   |   |   |   |   |   |--- feature_0 <= 247.00\n",
      "|   |   |   |   |   |   |   |   |--- class: CH\n",
      "|   |   |   |   |   |   |   |--- feature_0 >  247.00\n",
      "|   |   |   |   |   |   |   |   |--- class: MM\n",
      "|   |   |   |   |   |   |--- feature_0 >  252.50\n",
      "|   |   |   |   |   |   |   |--- class: CH\n",
      "|   |   |   |   |   |--- feature_7 >  0.50\n",
      "|   |   |   |   |   |   |--- class: MM\n",
      "|   |   |   |--- feature_0 >  273.50\n",
      "|   |   |   |   |--- class: MM\n",
      "|   |--- feature_8 >  0.28\n",
      "|   |   |--- feature_11 <= 0.05\n",
      "|   |   |   |--- feature_6 <= 0.50\n",
      "|   |   |   |   |--- feature_11 <= -0.16\n",
      "|   |   |   |   |   |--- feature_0 <= 229.50\n",
      "|   |   |   |   |   |   |--- feature_8 <= 0.45\n",
      "|   |   |   |   |   |   |   |--- class: CH\n",
      "|   |   |   |   |   |   |--- feature_8 >  0.45\n",
      "|   |   |   |   |   |   |   |--- class: MM\n",
      "|   |   |   |   |   |--- feature_0 >  229.50\n",
      "|   |   |   |   |   |   |--- class: MM\n",
      "|   |   |   |   |--- feature_11 >  -0.16\n",
      "|   |   |   |   |   |--- feature_10 <= 1.72\n",
      "|   |   |   |   |   |   |--- feature_8 <= 0.46\n",
      "|   |   |   |   |   |   |   |--- class: MM\n",
      "|   |   |   |   |   |   |--- feature_8 >  0.46\n",
      "|   |   |   |   |   |   |   |--- feature_8 <= 0.49\n",
      "|   |   |   |   |   |   |   |   |--- class: CH\n",
      "|   |   |   |   |   |   |   |--- feature_8 >  0.49\n",
      "|   |   |   |   |   |   |   |   |--- class: MM\n",
      "|   |   |   |   |   |--- feature_10 >  1.72\n",
      "|   |   |   |   |   |   |--- feature_3 <= 2.04\n",
      "|   |   |   |   |   |   |   |--- feature_11 <= 0.01\n",
      "|   |   |   |   |   |   |   |   |--- feature_0 <= 229.50\n",
      "|   |   |   |   |   |   |   |   |   |--- feature_16 <= 3.50\n",
      "|   |   |   |   |   |   |   |   |   |   |--- class: CH\n",
      "|   |   |   |   |   |   |   |   |   |--- feature_16 >  3.50\n",
      "|   |   |   |   |   |   |   |   |   |   |--- feature_8 <= 0.44\n",
      "|   |   |   |   |   |   |   |   |   |   |   |--- class: MM\n",
      "|   |   |   |   |   |   |   |   |   |   |--- feature_8 >  0.44\n",
      "|   |   |   |   |   |   |   |   |   |   |   |--- truncated branch of depth 2\n",
      "|   |   |   |   |   |   |   |   |--- feature_0 >  229.50\n",
      "|   |   |   |   |   |   |   |   |   |--- feature_0 <= 236.50\n",
      "|   |   |   |   |   |   |   |   |   |   |--- class: MM\n",
      "|   |   |   |   |   |   |   |   |   |--- feature_0 >  236.50\n",
      "|   |   |   |   |   |   |   |   |   |   |--- feature_1 <= 1.50\n",
      "|   |   |   |   |   |   |   |   |   |   |   |--- class: MM\n",
      "|   |   |   |   |   |   |   |   |   |   |--- feature_1 >  1.50\n",
      "|   |   |   |   |   |   |   |   |   |   |   |--- truncated branch of depth 3\n",
      "|   |   |   |   |   |   |   |--- feature_11 >  0.01\n",
      "|   |   |   |   |   |   |   |   |--- class: CH\n",
      "|   |   |   |   |   |   |--- feature_3 >  2.04\n",
      "|   |   |   |   |   |   |   |--- feature_9 <= 1.83\n",
      "|   |   |   |   |   |   |   |   |--- feature_0 <= 263.00\n",
      "|   |   |   |   |   |   |   |   |   |--- class: CH\n",
      "|   |   |   |   |   |   |   |   |--- feature_0 >  263.00\n",
      "|   |   |   |   |   |   |   |   |   |--- class: MM\n",
      "|   |   |   |   |   |   |   |--- feature_9 >  1.83\n",
      "|   |   |   |   |   |   |   |   |--- class: MM\n",
      "|   |   |   |--- feature_6 >  0.50\n",
      "|   |   |   |   |--- feature_10 <= 1.72\n",
      "|   |   |   |   |   |--- class: CH\n",
      "|   |   |   |   |--- feature_10 >  1.72\n",
      "|   |   |   |   |   |--- feature_16 <= 3.50\n",
      "|   |   |   |   |   |   |--- feature_8 <= 0.38\n",
      "|   |   |   |   |   |   |   |--- class: MM\n",
      "|   |   |   |   |   |   |--- feature_8 >  0.38\n",
      "|   |   |   |   |   |   |   |--- feature_8 <= 0.45\n",
      "|   |   |   |   |   |   |   |   |--- feature_12 <= 0.50\n",
      "|   |   |   |   |   |   |   |   |   |--- class: CH\n",
      "|   |   |   |   |   |   |   |   |--- feature_12 >  0.50\n",
      "|   |   |   |   |   |   |   |   |   |--- class: MM\n",
      "|   |   |   |   |   |   |   |--- feature_8 >  0.45\n",
      "|   |   |   |   |   |   |   |   |--- feature_0 <= 233.50\n",
      "|   |   |   |   |   |   |   |   |   |--- class: CH\n",
      "|   |   |   |   |   |   |   |   |--- feature_0 >  233.50\n",
      "|   |   |   |   |   |   |   |   |   |--- class: MM\n",
      "|   |   |   |   |   |--- feature_16 >  3.50\n",
      "|   |   |   |   |   |   |--- class: CH\n",
      "|   |   |--- feature_11 >  0.05\n",
      "|   |   |   |--- feature_3 <= 2.21\n",
      "|   |   |   |   |--- feature_0 <= 246.50\n",
      "|   |   |   |   |   |--- feature_16 <= 2.50\n",
      "|   |   |   |   |   |   |--- feature_10 <= 1.49\n",
      "|   |   |   |   |   |   |   |--- class: CH\n",
      "|   |   |   |   |   |   |--- feature_10 >  1.49\n",
      "|   |   |   |   |   |   |   |--- feature_8 <= 0.38\n",
      "|   |   |   |   |   |   |   |   |--- class: MM\n",
      "|   |   |   |   |   |   |   |--- feature_8 >  0.38\n",
      "|   |   |   |   |   |   |   |   |--- feature_8 <= 0.47\n",
      "|   |   |   |   |   |   |   |   |   |--- feature_0 <= 234.00\n",
      "|   |   |   |   |   |   |   |   |   |   |--- class: CH\n",
      "|   |   |   |   |   |   |   |   |   |--- feature_0 >  234.00\n",
      "|   |   |   |   |   |   |   |   |   |   |--- feature_0 <= 237.50\n",
      "|   |   |   |   |   |   |   |   |   |   |   |--- class: MM\n",
      "|   |   |   |   |   |   |   |   |   |   |--- feature_0 >  237.50\n",
      "|   |   |   |   |   |   |   |   |   |   |   |--- truncated branch of depth 3\n",
      "|   |   |   |   |   |   |   |   |--- feature_8 >  0.47\n",
      "|   |   |   |   |   |   |   |   |   |--- feature_11 <= 0.22\n",
      "|   |   |   |   |   |   |   |   |   |   |--- class: MM\n",
      "|   |   |   |   |   |   |   |   |   |--- feature_11 >  0.22\n",
      "|   |   |   |   |   |   |   |   |   |   |--- feature_10 <= 1.72\n",
      "|   |   |   |   |   |   |   |   |   |   |   |--- class: MM\n",
      "|   |   |   |   |   |   |   |   |   |   |--- feature_10 >  1.72\n",
      "|   |   |   |   |   |   |   |   |   |   |   |--- class: CH\n",
      "|   |   |   |   |   |--- feature_16 >  2.50\n",
      "|   |   |   |   |   |   |--- class: CH\n",
      "|   |   |   |   |--- feature_0 >  246.50\n",
      "|   |   |   |   |   |--- feature_7 <= 0.50\n",
      "|   |   |   |   |   |   |--- feature_14 <= 0.03\n",
      "|   |   |   |   |   |   |   |--- feature_8 <= 0.48\n",
      "|   |   |   |   |   |   |   |   |--- feature_8 <= 0.48\n",
      "|   |   |   |   |   |   |   |   |   |--- feature_0 <= 258.50\n",
      "|   |   |   |   |   |   |   |   |   |   |--- feature_8 <= 0.35\n",
      "|   |   |   |   |   |   |   |   |   |   |   |--- class: CH\n",
      "|   |   |   |   |   |   |   |   |   |   |--- feature_8 >  0.35\n",
      "|   |   |   |   |   |   |   |   |   |   |   |--- truncated branch of depth 2\n",
      "|   |   |   |   |   |   |   |   |   |--- feature_0 >  258.50\n",
      "|   |   |   |   |   |   |   |   |   |   |--- class: CH\n",
      "|   |   |   |   |   |   |   |   |--- feature_8 >  0.48\n",
      "|   |   |   |   |   |   |   |   |   |--- class: MM\n",
      "|   |   |   |   |   |   |   |--- feature_8 >  0.48\n",
      "|   |   |   |   |   |   |   |   |--- class: CH\n",
      "|   |   |   |   |   |   |--- feature_14 >  0.03\n",
      "|   |   |   |   |   |   |   |--- feature_15 <= 0.28\n",
      "|   |   |   |   |   |   |   |   |--- feature_16 <= 3.50\n",
      "|   |   |   |   |   |   |   |   |   |--- feature_8 <= 0.41\n",
      "|   |   |   |   |   |   |   |   |   |   |--- class: CH\n",
      "|   |   |   |   |   |   |   |   |   |--- feature_8 >  0.41\n",
      "|   |   |   |   |   |   |   |   |   |   |--- feature_8 <= 0.45\n",
      "|   |   |   |   |   |   |   |   |   |   |   |--- class: MM\n",
      "|   |   |   |   |   |   |   |   |   |   |--- feature_8 >  0.45\n",
      "|   |   |   |   |   |   |   |   |   |   |   |--- truncated branch of depth 4\n",
      "|   |   |   |   |   |   |   |   |--- feature_16 >  3.50\n",
      "|   |   |   |   |   |   |   |   |   |--- class: MM\n",
      "|   |   |   |   |   |   |   |--- feature_15 >  0.28\n",
      "|   |   |   |   |   |   |   |   |--- feature_8 <= 0.33\n",
      "|   |   |   |   |   |   |   |   |   |--- class: CH\n",
      "|   |   |   |   |   |   |   |   |--- feature_8 >  0.33\n",
      "|   |   |   |   |   |   |   |   |   |--- class: MM\n",
      "|   |   |   |   |   |--- feature_7 >  0.50\n",
      "|   |   |   |   |   |   |--- feature_8 <= 0.38\n",
      "|   |   |   |   |   |   |   |--- class: MM\n",
      "|   |   |   |   |   |   |--- feature_8 >  0.38\n",
      "|   |   |   |   |   |   |   |--- feature_2 <= 1.93\n",
      "|   |   |   |   |   |   |   |   |--- feature_0 <= 265.50\n",
      "|   |   |   |   |   |   |   |   |   |--- class: MM\n",
      "|   |   |   |   |   |   |   |   |--- feature_0 >  265.50\n",
      "|   |   |   |   |   |   |   |   |   |--- class: CH\n",
      "|   |   |   |   |   |   |   |--- feature_2 >  1.93\n",
      "|   |   |   |   |   |   |   |   |--- class: CH\n",
      "|   |   |   |--- feature_3 >  2.21\n",
      "|   |   |   |   |--- feature_8 <= 0.39\n",
      "|   |   |   |   |   |--- class: MM\n",
      "|   |   |   |   |--- feature_8 >  0.39\n",
      "|   |   |   |   |   |--- feature_2 <= 1.89\n",
      "|   |   |   |   |   |   |--- class: MM\n",
      "|   |   |   |   |   |--- feature_2 >  1.89\n",
      "|   |   |   |   |   |   |--- feature_0 <= 243.00\n",
      "|   |   |   |   |   |   |   |--- feature_8 <= 0.48\n",
      "|   |   |   |   |   |   |   |   |--- class: CH\n",
      "|   |   |   |   |   |   |   |--- feature_8 >  0.48\n",
      "|   |   |   |   |   |   |   |   |--- feature_16 <= 3.50\n",
      "|   |   |   |   |   |   |   |   |   |--- class: MM\n",
      "|   |   |   |   |   |   |   |   |--- feature_16 >  3.50\n",
      "|   |   |   |   |   |   |   |   |   |--- class: CH\n",
      "|   |   |   |   |   |   |--- feature_0 >  243.00\n",
      "|   |   |   |   |   |   |   |--- feature_3 <= 2.26\n",
      "|   |   |   |   |   |   |   |   |--- feature_8 <= 0.46\n",
      "|   |   |   |   |   |   |   |   |   |--- class: MM\n",
      "|   |   |   |   |   |   |   |   |--- feature_8 >  0.46\n",
      "|   |   |   |   |   |   |   |   |   |--- feature_0 <= 249.00\n",
      "|   |   |   |   |   |   |   |   |   |   |--- class: CH\n",
      "|   |   |   |   |   |   |   |   |   |--- feature_0 >  249.00\n",
      "|   |   |   |   |   |   |   |   |   |   |--- class: MM\n",
      "|   |   |   |   |   |   |   |--- feature_3 >  2.26\n",
      "|   |   |   |   |   |   |   |   |--- class: CH\n",
      "|--- feature_8 >  0.51\n",
      "|   |--- feature_8 <= 0.71\n",
      "|   |   |--- feature_11 <= 0.27\n",
      "|   |   |   |--- feature_15 <= 0.16\n",
      "|   |   |   |   |--- feature_11 <= -0.35\n",
      "|   |   |   |   |   |--- class: MM\n",
      "|   |   |   |   |--- feature_11 >  -0.35\n",
      "|   |   |   |   |   |--- feature_8 <= 0.56\n",
      "|   |   |   |   |   |   |--- class: MM\n",
      "|   |   |   |   |   |--- feature_8 >  0.56\n",
      "|   |   |   |   |   |   |--- feature_8 <= 0.57\n",
      "|   |   |   |   |   |   |   |--- class: CH\n",
      "|   |   |   |   |   |   |--- feature_8 >  0.57\n",
      "|   |   |   |   |   |   |   |--- feature_0 <= 272.50\n",
      "|   |   |   |   |   |   |   |   |--- feature_0 <= 271.50\n",
      "|   |   |   |   |   |   |   |   |   |--- feature_8 <= 0.60\n",
      "|   |   |   |   |   |   |   |   |   |   |--- class: MM\n",
      "|   |   |   |   |   |   |   |   |   |--- feature_8 >  0.60\n",
      "|   |   |   |   |   |   |   |   |   |   |--- feature_8 <= 0.69\n",
      "|   |   |   |   |   |   |   |   |   |   |   |--- truncated branch of depth 10\n",
      "|   |   |   |   |   |   |   |   |   |   |--- feature_8 >  0.69\n",
      "|   |   |   |   |   |   |   |   |   |   |   |--- class: MM\n",
      "|   |   |   |   |   |   |   |   |--- feature_0 >  271.50\n",
      "|   |   |   |   |   |   |   |   |   |--- class: CH\n",
      "|   |   |   |   |   |   |   |--- feature_0 >  272.50\n",
      "|   |   |   |   |   |   |   |   |--- class: MM\n",
      "|   |   |   |--- feature_15 >  0.16\n",
      "|   |   |   |   |--- feature_1 <= 2.50\n",
      "|   |   |   |   |   |--- feature_15 <= 0.21\n",
      "|   |   |   |   |   |   |--- feature_8 <= 0.59\n",
      "|   |   |   |   |   |   |   |--- class: MM\n",
      "|   |   |   |   |   |   |--- feature_8 >  0.59\n",
      "|   |   |   |   |   |   |   |--- feature_0 <= 248.50\n",
      "|   |   |   |   |   |   |   |   |--- class: CH\n",
      "|   |   |   |   |   |   |   |--- feature_0 >  248.50\n",
      "|   |   |   |   |   |   |   |   |--- class: CH\n",
      "|   |   |   |   |   |--- feature_15 >  0.21\n",
      "|   |   |   |   |   |   |--- feature_11 <= -0.02\n",
      "|   |   |   |   |   |   |   |--- class: MM\n",
      "|   |   |   |   |   |   |--- feature_11 >  -0.02\n",
      "|   |   |   |   |   |   |   |--- feature_0 <= 236.50\n",
      "|   |   |   |   |   |   |   |   |--- class: MM\n",
      "|   |   |   |   |   |   |   |--- feature_0 >  236.50\n",
      "|   |   |   |   |   |   |   |   |--- feature_8 <= 0.56\n",
      "|   |   |   |   |   |   |   |   |   |--- class: CH\n",
      "|   |   |   |   |   |   |   |   |--- feature_8 >  0.56\n",
      "|   |   |   |   |   |   |   |   |   |--- feature_15 <= 0.28\n",
      "|   |   |   |   |   |   |   |   |   |   |--- feature_0 <= 237.50\n",
      "|   |   |   |   |   |   |   |   |   |   |   |--- class: MM\n",
      "|   |   |   |   |   |   |   |   |   |   |--- feature_0 >  237.50\n",
      "|   |   |   |   |   |   |   |   |   |   |   |--- truncated branch of depth 2\n",
      "|   |   |   |   |   |   |   |   |   |--- feature_15 >  0.28\n",
      "|   |   |   |   |   |   |   |   |   |   |--- class: MM\n",
      "|   |   |   |   |--- feature_1 >  2.50\n",
      "|   |   |   |   |   |--- feature_8 <= 0.69\n",
      "|   |   |   |   |   |   |--- feature_8 <= 0.52\n",
      "|   |   |   |   |   |   |   |--- feature_9 <= 1.74\n",
      "|   |   |   |   |   |   |   |   |--- class: CH\n",
      "|   |   |   |   |   |   |   |--- feature_9 >  1.74\n",
      "|   |   |   |   |   |   |   |   |--- class: MM\n",
      "|   |   |   |   |   |   |--- feature_8 >  0.52\n",
      "|   |   |   |   |   |   |   |--- class: CH\n",
      "|   |   |   |   |   |--- feature_8 >  0.69\n",
      "|   |   |   |   |   |   |--- class: MM\n",
      "|   |   |--- feature_11 >  0.27\n",
      "|   |   |   |--- feature_8 <= 0.68\n",
      "|   |   |   |   |--- feature_8 <= 0.54\n",
      "|   |   |   |   |   |--- feature_1 <= 2.50\n",
      "|   |   |   |   |   |   |--- class: MM\n",
      "|   |   |   |   |   |--- feature_1 >  2.50\n",
      "|   |   |   |   |   |   |--- class: CH\n",
      "|   |   |   |   |--- feature_8 >  0.54\n",
      "|   |   |   |   |   |--- feature_15 <= 0.25\n",
      "|   |   |   |   |   |   |--- feature_0 <= 251.50\n",
      "|   |   |   |   |   |   |   |--- class: MM\n",
      "|   |   |   |   |   |   |--- feature_0 >  251.50\n",
      "|   |   |   |   |   |   |   |--- class: CH\n",
      "|   |   |   |   |   |--- feature_15 >  0.25\n",
      "|   |   |   |   |   |   |--- class: CH\n",
      "|   |   |   |--- feature_8 >  0.68\n",
      "|   |   |   |   |--- feature_8 <= 0.69\n",
      "|   |   |   |   |   |--- class: MM\n",
      "|   |   |   |   |--- feature_8 >  0.69\n",
      "|   |   |   |   |   |--- class: CH\n",
      "|   |--- feature_8 >  0.71\n",
      "|   |   |--- feature_11 <= -0.39\n",
      "|   |   |   |--- feature_1 <= 1.50\n",
      "|   |   |   |   |--- class: MM\n",
      "|   |   |   |--- feature_1 >  1.50\n",
      "|   |   |   |   |--- feature_6 <= 0.50\n",
      "|   |   |   |   |   |--- class: CH\n",
      "|   |   |   |   |--- feature_6 >  0.50\n",
      "|   |   |   |   |   |--- feature_8 <= 1.00\n",
      "|   |   |   |   |   |   |--- class: MM\n",
      "|   |   |   |   |   |--- feature_8 >  1.00\n",
      "|   |   |   |   |   |   |--- class: CH\n",
      "|   |   |--- feature_11 >  -0.39\n",
      "|   |   |   |--- feature_9 <= 2.26\n",
      "|   |   |   |   |--- feature_0 <= 228.50\n",
      "|   |   |   |   |   |--- feature_8 <= 0.79\n",
      "|   |   |   |   |   |   |--- class: MM\n",
      "|   |   |   |   |   |--- feature_8 >  0.79\n",
      "|   |   |   |   |   |   |--- class: CH\n",
      "|   |   |   |   |--- feature_0 >  228.50\n",
      "|   |   |   |   |   |--- feature_12 <= 0.50\n",
      "|   |   |   |   |   |   |--- feature_8 <= 0.92\n",
      "|   |   |   |   |   |   |   |--- feature_0 <= 266.50\n",
      "|   |   |   |   |   |   |   |   |--- class: CH\n",
      "|   |   |   |   |   |   |   |--- feature_0 >  266.50\n",
      "|   |   |   |   |   |   |   |   |--- feature_3 <= 2.04\n",
      "|   |   |   |   |   |   |   |   |   |--- class: MM\n",
      "|   |   |   |   |   |   |   |   |--- feature_3 >  2.04\n",
      "|   |   |   |   |   |   |   |   |   |--- feature_0 <= 269.50\n",
      "|   |   |   |   |   |   |   |   |   |   |--- feature_0 <= 268.50\n",
      "|   |   |   |   |   |   |   |   |   |   |   |--- class: CH\n",
      "|   |   |   |   |   |   |   |   |   |   |--- feature_0 >  268.50\n",
      "|   |   |   |   |   |   |   |   |   |   |   |--- class: MM\n",
      "|   |   |   |   |   |   |   |   |   |--- feature_0 >  269.50\n",
      "|   |   |   |   |   |   |   |   |   |   |--- class: CH\n",
      "|   |   |   |   |   |   |--- feature_8 >  0.92\n",
      "|   |   |   |   |   |   |   |--- feature_8 <= 0.93\n",
      "|   |   |   |   |   |   |   |   |--- class: MM\n",
      "|   |   |   |   |   |   |   |--- feature_8 >  0.93\n",
      "|   |   |   |   |   |   |   |   |--- feature_11 <= 0.23\n",
      "|   |   |   |   |   |   |   |   |   |--- feature_8 <= 0.95\n",
      "|   |   |   |   |   |   |   |   |   |   |--- feature_0 <= 264.50\n",
      "|   |   |   |   |   |   |   |   |   |   |   |--- class: CH\n",
      "|   |   |   |   |   |   |   |   |   |   |--- feature_0 >  264.50\n",
      "|   |   |   |   |   |   |   |   |   |   |   |--- class: MM\n",
      "|   |   |   |   |   |   |   |   |   |--- feature_8 >  0.95\n",
      "|   |   |   |   |   |   |   |   |   |   |--- class: CH\n",
      "|   |   |   |   |   |   |   |   |--- feature_11 >  0.23\n",
      "|   |   |   |   |   |   |   |   |   |--- feature_1 <= 1.50\n",
      "|   |   |   |   |   |   |   |   |   |   |--- class: CH\n",
      "|   |   |   |   |   |   |   |   |   |--- feature_1 >  1.50\n",
      "|   |   |   |   |   |   |   |   |   |   |--- feature_8 <= 0.99\n",
      "|   |   |   |   |   |   |   |   |   |   |   |--- truncated branch of depth 5\n",
      "|   |   |   |   |   |   |   |   |   |   |--- feature_8 >  0.99\n",
      "|   |   |   |   |   |   |   |   |   |   |   |--- class: CH\n",
      "|   |   |   |   |   |--- feature_12 >  0.50\n",
      "|   |   |   |   |   |   |--- class: CH\n",
      "|   |   |   |--- feature_9 >  2.26\n",
      "|   |   |   |   |--- feature_0 <= 254.50\n",
      "|   |   |   |   |   |--- class: MM\n",
      "|   |   |   |   |--- feature_0 >  254.50\n",
      "|   |   |   |   |   |--- feature_8 <= 0.81\n",
      "|   |   |   |   |   |   |--- feature_0 <= 257.00\n",
      "|   |   |   |   |   |   |   |--- class: CH\n",
      "|   |   |   |   |   |   |--- feature_0 >  257.00\n",
      "|   |   |   |   |   |   |   |--- class: MM\n",
      "|   |   |   |   |   |--- feature_8 >  0.81\n",
      "|   |   |   |   |   |   |--- class: CH\n",
      "\n"
     ]
    }
   ],
   "source": [
    "print(export_text(clf))"
   ],
   "metadata": {
    "collapsed": false,
    "pycharm": {
     "name": "#%%\n"
    }
   }
  },
  {
   "cell_type": "code",
   "execution_count": 6,
   "outputs": [
    {
     "data": {
      "text/plain": "array([[115,  38],\n       [ 35,  82]], dtype=int64)"
     },
     "execution_count": 6,
     "metadata": {},
     "output_type": "execute_result"
    }
   ],
   "source": [
    "y_predict = clf.predict(X_test)\n",
    "confusion_matrix(y_true=y_test, y_pred=y_predict, labels=[\"CH\", \"MM\"])"
   ],
   "metadata": {
    "collapsed": false,
    "pycharm": {
     "name": "#%%\n"
    }
   }
  },
  {
   "cell_type": "markdown",
   "source": [
    "# Decision Tree Classifier with Cost-Complexity Pruning (CCP)"
   ],
   "metadata": {
    "collapsed": false,
    "pycharm": {
     "name": "#%% md\n"
    }
   }
  },
  {
   "cell_type": "code",
   "execution_count": 7,
   "outputs": [
    {
     "data": {
      "text/plain": "<Figure size 432x288 with 1 Axes>",
      "image/png": "[encoded data removed]"
     },
     "metadata": {
      "needs_background": "light"
     },
     "output_type": "display_data"
    }
   ],
   "source": [
    "ccp_alphas = clf.cost_complexity_pruning_path(X_train, y_train).ccp_alphas\n",
    "depths = []\n",
    "scores = []\n",
    "\n",
    "for alpha in ccp_alphas:\n",
    "    clf = DecisionTreeClassifier(ccp_alpha=alpha, random_state=0)\n",
    "    clf.fit(X_train, y_train)\n",
    "    depths.append(clf.get_depth())\n",
    "    scores.append(np.mean(cross_val_score(clf, X_train, y_train, cv=5)))\n",
    "\n",
    "plt.scatter(depths, scores, s=3)\n",
    "plt.plot(depths[np.argmax(scores)], max(scores), marker=\"x\", ms=10, c=\"yellow\")\n",
    "plt.xlabel(\"depth of tree\")\n",
    "plt.ylabel(\"CV score\")\n",
    "plt.show()"
   ],
   "metadata": {
    "collapsed": false,
    "pycharm": {
     "name": "#%%\n"
    }
   }
  },
  {
   "cell_type": "code",
   "execution_count": 8,
   "outputs": [
    {
     "data": {
      "text/plain": "[0.8625, 0.7703703703703704]"
     },
     "execution_count": 8,
     "metadata": {},
     "output_type": "execute_result"
    }
   ],
   "source": [
    "best_depth = depths[np.argmax(scores)]\n",
    "clf = DecisionTreeClassifier(max_depth=best_depth, random_state=0)\n",
    "clf.fit(X_train, y_train)\n",
    "[clf.score(X_train, y_train), clf.score(X_test, y_test)]"
   ],
   "metadata": {
    "collapsed": false,
    "pycharm": {
     "name": "#%%\n"
    }
   }
  },
  {
   "cell_type": "markdown",
   "source": [
    "# Ensemble Methods"
   ],
   "metadata": {
    "collapsed": false,
    "pycharm": {
     "name": "#%% md\n"
    }
   }
  },
  {
   "cell_type": "code",
   "execution_count": 9,
   "outputs": [
    {
     "data": {
      "text/plain": "[0.89375, 0.7962962962962963]"
     },
     "execution_count": 9,
     "metadata": {},
     "output_type": "execute_result"
    }
   ],
   "source": [
    "# Gradient Boosting\n",
    "boosting = GradientBoostingClassifier(warm_start=True, random_state=0)\n",
    "boosting.fit(X_train, y_train)\n",
    "[boosting.score(X_train, y_train), boosting.score(X_test, y_test)]"
   ],
   "metadata": {
    "collapsed": false,
    "pycharm": {
     "name": "#%%\n"
    }
   }
  },
  {
   "cell_type": "code",
   "execution_count": 10,
   "outputs": [
    {
     "data": {
      "text/plain": "[0.875, 0.8185185185185185]"
     },
     "execution_count": 10,
     "metadata": {},
     "output_type": "execute_result"
    }
   ],
   "source": [
    "# Bagging\n",
    "bagging = BaggingClassifier(base_estimator=clf, warm_start=True, random_state=0)\n",
    "bagging.fit(X_train, y_train)\n",
    "[bagging.score(X_train, y_train), bagging.score(X_test, y_test)]"
   ],
   "metadata": {
    "collapsed": false,
    "pycharm": {
     "name": "#%%\n"
    }
   }
  },
  {
   "cell_type": "code",
   "execution_count": 11,
   "outputs": [
    {
     "data": {
      "text/plain": "[0.99125, 0.7703703703703704]"
     },
     "execution_count": 11,
     "metadata": {},
     "output_type": "execute_result"
    }
   ],
   "source": [
    "# Random Forest\n",
    "forest = RandomForestClassifier(warm_start=True, random_state=0)\n",
    "forest.fit(X_train, y_train)\n",
    "[forest.score(X_train, y_train), forest.score(X_test, y_test)]"
   ],
   "metadata": {
    "collapsed": false,
    "pycharm": {
     "name": "#%%\n"
    }
   }
  },
  {
   "cell_type": "markdown",
   "source": [
    "# Support Vector Machines (SVMs)"
   ],
   "metadata": {
    "collapsed": false,
    "pycharm": {
     "name": "#%% md\n"
    }
   }
  },
  {
   "cell_type": "code",
   "execution_count": 12,
   "outputs": [
    {
     "data": {
      "text/plain": "[0.625, 0.5666666666666667]"
     },
     "execution_count": 12,
     "metadata": {},
     "output_type": "execute_result"
    }
   ],
   "source": [
    "# Linear kernel SVC\n",
    "svc = SVC(random_state=0)\n",
    "svc.fit(X_train, y_train)\n",
    "\n",
    "grid = {\"C\": np.linspace(1, 30, 60)}\n",
    "tuned_svc = GridSearchCV(estimator=svc, param_grid=grid, cv=5)\n",
    "tuned_svc.fit(X_train, y_train)\n",
    "[tuned_svc.score(X_train, y_train), tuned_svc.score(X_test, y_test)]"
   ],
   "metadata": {
    "collapsed": false,
    "pycharm": {
     "name": "#%%\n"
    }
   }
  },
  {
   "cell_type": "code",
   "execution_count": 13,
   "outputs": [
    {
     "data": {
      "text/plain": "[0.625, 0.5666666666666667]"
     },
     "execution_count": 13,
     "metadata": {},
     "output_type": "execute_result"
    }
   ],
   "source": [
    "# Quadratic kernel SVC\n",
    "svc = SVC(random_state=0, kernel=\"poly\", degree=2)\n",
    "svc.fit(X_train, y_train)\n",
    "\n",
    "grid = {\"C\": np.linspace(1, 30, 60)}\n",
    "tuned_svc = GridSearchCV(estimator=svc, param_grid=grid, cv=5)\n",
    "tuned_svc.fit(X_train, y_train)\n",
    "[tuned_svc.score(X_train, y_train), tuned_svc.score(X_test, y_test)]"
   ],
   "metadata": {
    "collapsed": false,
    "pycharm": {
     "name": "#%%\n"
    }
   }
  },
  {
   "cell_type": "code",
   "execution_count": 14,
   "outputs": [
    {
     "data": {
      "text/plain": "[0.625, 0.5666666666666667]"
     },
     "execution_count": 14,
     "metadata": {},
     "output_type": "execute_result"
    }
   ],
   "source": [
    "# Radial basis function kernel SVC\n",
    "svc = SVC(random_state=0, kernel=\"rbf\")\n",
    "svc.fit(X_train, y_train)\n",
    "\n",
    "grid = {\"C\": np.linspace(1, 30, 60), \"kernel\": [\"rbf\"], \"random_state\": [0]}\n",
    "tuned_svc = GridSearchCV(estimator=svc, param_grid=grid, cv=5)\n",
    "tuned_svc.fit(X_train, y_train)\n",
    "[tuned_svc.score(X_train, y_train), tuned_svc.score(X_test, y_test)]"
   ],
   "metadata": {
    "collapsed": false,
    "pycharm": {
     "name": "#%%\n"
    }
   }
  }
 ],
 "metadata": {
  "kernelspec": {
   "display_name": "Python 3",
   "language": "python",
   "name": "python3"
  },
  "language_info": {
   "codemirror_mode": {
    "name": "ipython",
    "version": 2
   },
   "file_extension": ".py",
   "mimetype": "text/x-python",
   "name": "python",
   "nbconvert_exporter": "python",
   "pygments_lexer": "ipython2",
   "version": "2.7.6"
  }
 },
 "nbformat": 4,
 "nbformat_minor": 0
}