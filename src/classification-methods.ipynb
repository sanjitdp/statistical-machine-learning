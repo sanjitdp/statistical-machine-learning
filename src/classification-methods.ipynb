{
 "cells": [
  {
   "cell_type": "markdown",
   "source": [
    "# Importing Libraries"
   ],
   "metadata": {
    "collapsed": false,
    "pycharm": {
     "name": "#%% md\n"
    }
   }
  },
  {
   "cell_type": "code",
   "execution_count": 2,
   "outputs": [],
   "source": [
    "import pandas as pd\n",
    "import numpy as np\n",
    "import matplotlib.pyplot as plt\n",
    "import seaborn as sns\n",
    "\n",
    "from sklearn.model_selection import train_test_split\n",
    "from sklearn.discriminant_analysis import LinearDiscriminantAnalysis, QuadraticDiscriminantAnalysis\n",
    "from sklearn.preprocessing import OneHotEncoder\n",
    "from sklearn.compose import make_column_transformer\n",
    "from sklearn.linear_model import LogisticRegression\n",
    "from sklearn.naive_bayes import GaussianNB\n",
    "from sklearn.neighbors import KNeighborsClassifier\n",
    "from sklearn.model_selection import cross_val_score, LeaveOneOut, GridSearchCV\n",
    "from sklearn.svm import SVC"
   ],
   "metadata": {
    "collapsed": false,
    "pycharm": {
     "name": "#%%\n"
    }
   }
  },
  {
   "cell_type": "markdown",
   "source": [
    "# Loading Data"
   ],
   "metadata": {
    "collapsed": false,
    "pycharm": {
     "name": "#%% md\n"
    }
   }
  },
  {
   "cell_type": "code",
   "execution_count": 3,
   "outputs": [
    {
     "data": {
      "text/plain": "                            mpg  cylinders  displacement  horsepower  weight  \\\nname                                                                           \nchevrolet chevelle malibu  18.0          8         307.0       130.0    3504   \nbuick skylark 320          15.0          8         350.0       165.0    3693   \nplymouth satellite         18.0          8         318.0       150.0    3436   \namc rebel sst              16.0          8         304.0       150.0    3433   \nford torino                17.0          8         302.0       140.0    3449   \n\n                           acceleration  year  origin  \nname                                                   \nchevrolet chevelle malibu          12.0    70       1  \nbuick skylark 320                  11.5    70       1  \nplymouth satellite                 11.0    70       1  \namc rebel sst                      12.0    70       1  \nford torino                        10.5    70       1  ",
      "text/html": "<div>\n<style scoped>\n    .dataframe tbody tr th:only-of-type {\n        vertical-align: middle;\n    }\n\n    .dataframe tbody tr th {\n        vertical-align: top;\n    }\n\n    .dataframe thead th {\n        text-align: right;\n    }\n</style>\n<table border=\"1\" class=\"dataframe\">\n  <thead>\n    <tr style=\"text-align: right;\">\n      <th></th>\n      <th>mpg</th>\n      <th>cylinders</th>\n      <th>displacement</th>\n      <th>horsepower</th>\n      <th>weight</th>\n      <th>acceleration</th>\n      <th>year</th>\n      <th>origin</th>\n    </tr>\n    <tr>\n      <th>name</th>\n      <th></th>\n      <th></th>\n      <th></th>\n      <th></th>\n      <th></th>\n      <th></th>\n      <th></th>\n      <th></th>\n    </tr>\n  </thead>\n  <tbody>\n    <tr>\n      <th>chevrolet chevelle malibu</th>\n      <td>18.0</td>\n      <td>8</td>\n      <td>307.0</td>\n      <td>130.0</td>\n      <td>3504</td>\n      <td>12.0</td>\n      <td>70</td>\n      <td>1</td>\n    </tr>\n    <tr>\n      <th>buick skylark 320</th>\n      <td>15.0</td>\n      <td>8</td>\n      <td>350.0</td>\n      <td>165.0</td>\n      <td>3693</td>\n      <td>11.5</td>\n      <td>70</td>\n      <td>1</td>\n    </tr>\n    <tr>\n      <th>plymouth satellite</th>\n      <td>18.0</td>\n      <td>8</td>\n      <td>318.0</td>\n      <td>150.0</td>\n      <td>3436</td>\n      <td>11.0</td>\n      <td>70</td>\n      <td>1</td>\n    </tr>\n    <tr>\n      <th>amc rebel sst</th>\n      <td>16.0</td>\n      <td>8</td>\n      <td>304.0</td>\n      <td>150.0</td>\n      <td>3433</td>\n      <td>12.0</td>\n      <td>70</td>\n      <td>1</td>\n    </tr>\n    <tr>\n      <th>ford torino</th>\n      <td>17.0</td>\n      <td>8</td>\n      <td>302.0</td>\n      <td>140.0</td>\n      <td>3449</td>\n      <td>10.5</td>\n      <td>70</td>\n      <td>1</td>\n    </tr>\n  </tbody>\n</table>\n</div>"
     },
     "execution_count": 3,
     "metadata": {},
     "output_type": "execute_result"
    }
   ],
   "source": [
    "auto = pd.read_csv(\"../data/Auto.csv\", na_values=\"?\", index_col=\"name\")\n",
    "auto.head()"
   ],
   "metadata": {
    "collapsed": false,
    "pycharm": {
     "name": "#%%\n"
    }
   }
  },
  {
   "cell_type": "markdown",
   "source": [
    "# Cleaning Data"
   ],
   "metadata": {
    "collapsed": false,
    "pycharm": {
     "name": "#%% md\n"
    }
   }
  },
  {
   "cell_type": "code",
   "execution_count": 4,
   "outputs": [
    {
     "name": "stdout",
     "output_type": "stream",
     "text": [
      "<class 'pandas.core.frame.DataFrame'>\n",
      "Index: 392 entries, chevrolet chevelle malibu to chevy s-10\n",
      "Data columns (total 8 columns):\n",
      " #   Column        Non-Null Count  Dtype  \n",
      "---  ------        --------------  -----  \n",
      " 0   mpg           392 non-null    float64\n",
      " 1   cylinders     392 non-null    int64  \n",
      " 2   displacement  392 non-null    float64\n",
      " 3   horsepower    392 non-null    float64\n",
      " 4   weight        392 non-null    int64  \n",
      " 5   acceleration  392 non-null    float64\n",
      " 6   year          392 non-null    int64  \n",
      " 7   origin        392 non-null    int64  \n",
      "dtypes: float64(4), int64(4)\n",
      "memory usage: 27.6+ KB\n"
     ]
    }
   ],
   "source": [
    "auto = auto.dropna()\n",
    "auto.info()"
   ],
   "metadata": {
    "collapsed": false,
    "pycharm": {
     "name": "#%%\n"
    }
   }
  },
  {
   "cell_type": "markdown",
   "source": [
    "# Data Exploration"
   ],
   "metadata": {
    "collapsed": false,
    "pycharm": {
     "name": "#%% md\n"
    }
   }
  },
  {
   "cell_type": "code",
   "execution_count": 5,
   "outputs": [
    {
     "data": {
      "text/plain": "0    196\n1    196\nName: mpg01, dtype: int64"
     },
     "execution_count": 5,
     "metadata": {},
     "output_type": "execute_result"
    }
   ],
   "source": [
    "# Create conditional variable checking whether mpg > median\n",
    "mpg_median = auto[\"mpg\"].median()\n",
    "auto[\"mpg01\"] = [1 if mpg > mpg_median else 0 for mpg in auto[\"mpg\"]]\n",
    "auto[\"mpg01\"].value_counts()"
   ],
   "metadata": {
    "collapsed": false,
    "pycharm": {
     "name": "#%%\n"
    }
   }
  },
  {
   "cell_type": "code",
   "execution_count": 6,
   "outputs": [
    {
     "data": {
      "text/plain": "<Figure size 432x288 with 4 Axes>",
      "image/png": "[encoded data removed]"
     },
     "metadata": {
      "needs_background": "light"
     },
     "output_type": "display_data"
    }
   ],
   "source": [
    "# Scatter-plots with quantitative predictors\n",
    "colors = [\"teal\" if indicator else \"green\" for indicator in auto[\"mpg01\"]]\n",
    "\n",
    "fig, ax = plt.subplots(2, 2)\n",
    "for i, col in enumerate(auto.columns[2:6]):\n",
    "    if i < 2:\n",
    "        sns.scatterplot(x=auto[col], y=auto[\"mpg01\"], ax=ax[0, i], s=3, c=colors)\n",
    "    else:\n",
    "        sns.scatterplot(x=auto[col], y=auto[\"mpg01\"], ax=ax[1, i-2], s=3, c=colors)\n",
    "\n",
    "fig.tight_layout()\n",
    "plt.show()"
   ],
   "metadata": {
    "collapsed": false,
    "pycharm": {
     "name": "#%%\n"
    }
   }
  },
  {
   "cell_type": "code",
   "execution_count": 7,
   "outputs": [
    {
     "data": {
      "text/plain": "<Figure size 432x288 with 1 Axes>",
      "image/png": "[encoded data removed]"
     },
     "metadata": {
      "needs_background": "light"
     },
     "output_type": "display_data"
    }
   ],
   "source": [
    "# Box-plot of mpg01 against cylinders\n",
    "data = [auto.loc[auto.mpg01 == 0, \"cylinders\"], auto.loc[auto.mpg01 == 1, \"cylinders\"]]\n",
    "\n",
    "fig, ax = plt.subplots()\n",
    "ax.boxplot(data)\n",
    "\n",
    "ax.set_xticklabels([0, 1])\n",
    "ax.set_xlabel(\"mpg01\")\n",
    "ax.set_ylabel(\"cylinders\")\n",
    "\n",
    "plt.show()"
   ],
   "metadata": {
    "collapsed": false,
    "pycharm": {
     "name": "#%%\n"
    }
   }
  },
  {
   "cell_type": "code",
   "execution_count": 8,
   "outputs": [
    {
     "data": {
      "text/plain": "<Figure size 432x288 with 1 Axes>",
      "image/png": "[encoded data removed]"
     },
     "metadata": {
      "needs_background": "light"
     },
     "output_type": "display_data"
    }
   ],
   "source": [
    "# Box-plot of mpg01 against year\n",
    "data = [auto.loc[auto.mpg01 == 0, \"year\"], auto.loc[auto.mpg01 == 1, \"year\"]]\n",
    "\n",
    "_, ax = plt.subplots()\n",
    "ax.boxplot(data)\n",
    "\n",
    "ax.set_xticklabels([0, 1])\n",
    "ax.set_xlabel(\"mpg01\")\n",
    "ax.set_ylabel(\"year\")\n",
    "\n",
    "plt.show()"
   ],
   "metadata": {
    "collapsed": false,
    "pycharm": {
     "name": "#%%\n"
    }
   }
  },
  {
   "cell_type": "code",
   "execution_count": 9,
   "outputs": [
    {
     "data": {
      "text/plain": "<Figure size 432x288 with 1 Axes>",
      "image/png": "[encoded data removed]"
     },
     "metadata": {
      "needs_background": "light"
     },
     "output_type": "display_data"
    }
   ],
   "source": [
    "# Box-plot of mpg01 against origin\n",
    "lower_mpg = auto.loc[auto.mpg01 == 0, \"origin\"].value_counts()\n",
    "higher_mpg = auto.loc[auto.mpg01 == 1, \"origin\"].value_counts()\n",
    "\n",
    "_, ax = plt.subplots()\n",
    "ax.bar(range(1, 4), lower_mpg, label='mpg01 = 0')\n",
    "ax.bar(range(1, 4), higher_mpg, bottom=lower_mpg, label='mpg01 = 1')\n",
    "\n",
    "ax.set_xticks([1, 2, 3])\n",
    "ax.set_xticklabels([\"American\", \"European\", \"Japanese\"])\n",
    "ax.set_xlabel(\"origin\")\n",
    "ax.set_ylabel(\"count\")\n",
    "ax.legend()\n",
    "\n",
    "plt.show()"
   ],
   "metadata": {
    "collapsed": false,
    "pycharm": {
     "name": "#%%\n"
    }
   }
  },
  {
   "cell_type": "markdown",
   "source": [
    "# Data Analysis"
   ],
   "metadata": {
    "collapsed": false,
    "pycharm": {
     "name": "#%% md\n"
    }
   }
  },
  {
   "cell_type": "code",
   "execution_count": 10,
   "outputs": [
    {
     "data": {
      "text/plain": "              displacement  horsepower    weight  cylinders  acceleration  \\\ndisplacement      1.000000    0.897257  0.932994   0.950823     -0.543800   \nhorsepower        0.897257    1.000000  0.864538   0.842983     -0.689196   \nweight            0.932994    0.864538  1.000000   0.897527     -0.416839   \ncylinders         0.950823    0.842983  0.897527   1.000000     -0.504683   \nacceleration     -0.543800   -0.689196 -0.416839  -0.504683      1.000000   \norigin           -0.614535   -0.455171 -0.585005  -0.568932      0.212746   \nyear             -0.369855   -0.416361 -0.309120  -0.345647      0.290316   \nmpg01            -0.753477   -0.667053 -0.757757  -0.759194      0.346822   \n\n                origin      year     mpg01  \ndisplacement -0.614535 -0.369855 -0.753477  \nhorsepower   -0.455171 -0.416361 -0.667053  \nweight       -0.585005 -0.309120 -0.757757  \ncylinders    -0.568932 -0.345647 -0.759194  \nacceleration  0.212746  0.290316  0.346822  \norigin        1.000000  0.181528  0.513698  \nyear          0.181528  1.000000  0.429904  \nmpg01         0.513698  0.429904  1.000000  ",
      "text/html": "<div>\n<style scoped>\n    .dataframe tbody tr th:only-of-type {\n        vertical-align: middle;\n    }\n\n    .dataframe tbody tr th {\n        vertical-align: top;\n    }\n\n    .dataframe thead th {\n        text-align: right;\n    }\n</style>\n<table border=\"1\" class=\"dataframe\">\n  <thead>\n    <tr style=\"text-align: right;\">\n      <th></th>\n      <th>displacement</th>\n      <th>horsepower</th>\n      <th>weight</th>\n      <th>cylinders</th>\n      <th>acceleration</th>\n      <th>origin</th>\n      <th>year</th>\n      <th>mpg01</th>\n    </tr>\n  </thead>\n  <tbody>\n    <tr>\n      <th>displacement</th>\n      <td>1.000000</td>\n      <td>0.897257</td>\n      <td>0.932994</td>\n      <td>0.950823</td>\n      <td>-0.543800</td>\n      <td>-0.614535</td>\n      <td>-0.369855</td>\n      <td>-0.753477</td>\n    </tr>\n    <tr>\n      <th>horsepower</th>\n      <td>0.897257</td>\n      <td>1.000000</td>\n      <td>0.864538</td>\n      <td>0.842983</td>\n      <td>-0.689196</td>\n      <td>-0.455171</td>\n      <td>-0.416361</td>\n      <td>-0.667053</td>\n    </tr>\n    <tr>\n      <th>weight</th>\n      <td>0.932994</td>\n      <td>0.864538</td>\n      <td>1.000000</td>\n      <td>0.897527</td>\n      <td>-0.416839</td>\n      <td>-0.585005</td>\n      <td>-0.309120</td>\n      <td>-0.757757</td>\n    </tr>\n    <tr>\n      <th>cylinders</th>\n      <td>0.950823</td>\n      <td>0.842983</td>\n      <td>0.897527</td>\n      <td>1.000000</td>\n      <td>-0.504683</td>\n      <td>-0.568932</td>\n      <td>-0.345647</td>\n      <td>-0.759194</td>\n    </tr>\n    <tr>\n      <th>acceleration</th>\n      <td>-0.543800</td>\n      <td>-0.689196</td>\n      <td>-0.416839</td>\n      <td>-0.504683</td>\n      <td>1.000000</td>\n      <td>0.212746</td>\n      <td>0.290316</td>\n      <td>0.346822</td>\n    </tr>\n    <tr>\n      <th>origin</th>\n      <td>-0.614535</td>\n      <td>-0.455171</td>\n      <td>-0.585005</td>\n      <td>-0.568932</td>\n      <td>0.212746</td>\n      <td>1.000000</td>\n      <td>0.181528</td>\n      <td>0.513698</td>\n    </tr>\n    <tr>\n      <th>year</th>\n      <td>-0.369855</td>\n      <td>-0.416361</td>\n      <td>-0.309120</td>\n      <td>-0.345647</td>\n      <td>0.290316</td>\n      <td>0.181528</td>\n      <td>1.000000</td>\n      <td>0.429904</td>\n    </tr>\n    <tr>\n      <th>mpg01</th>\n      <td>-0.753477</td>\n      <td>-0.667053</td>\n      <td>-0.757757</td>\n      <td>-0.759194</td>\n      <td>0.346822</td>\n      <td>0.513698</td>\n      <td>0.429904</td>\n      <td>1.000000</td>\n    </tr>\n  </tbody>\n</table>\n</div>"
     },
     "execution_count": 10,
     "metadata": {},
     "output_type": "execute_result"
    }
   ],
   "source": [
    "# Test for collinearity\n",
    "auto[[\"displacement\", \"horsepower\", \"weight\", \"cylinders\", \"acceleration\", \"origin\", \"year\", \"mpg01\"]].corr()"
   ],
   "metadata": {
    "collapsed": false,
    "pycharm": {
     "name": "#%%\n"
    }
   }
  },
  {
   "cell_type": "code",
   "execution_count": 11,
   "outputs": [],
   "source": [
    "# Feature selection\n",
    "X = auto[[\"horsepower\", \"year\", \"origin\", \"acceleration\"]]\n",
    "y = auto[\"mpg01\"]"
   ],
   "metadata": {
    "collapsed": false,
    "pycharm": {
     "name": "#%%\n"
    }
   }
  },
  {
   "cell_type": "code",
   "execution_count": 12,
   "outputs": [],
   "source": [
    "# One-Hot Encoding\n",
    "enc = make_column_transformer((OneHotEncoder(), [\"origin\"]), remainder=\"passthrough\")\n",
    "X = pd.DataFrame(enc.fit_transform(X), columns=enc.get_feature_names_out())\\\n",
    "              .iloc[:, 1:]"
   ],
   "metadata": {
    "collapsed": false,
    "pycharm": {
     "name": "#%%\n"
    }
   }
  },
  {
   "cell_type": "code",
   "execution_count": 13,
   "outputs": [],
   "source": [
    "# Train-test split\n",
    "X_train, X_test, y_train, y_test = train_test_split(X, y, random_state=1)"
   ],
   "metadata": {
    "collapsed": false,
    "pycharm": {
     "name": "#%%\n"
    }
   }
  },
  {
   "cell_type": "code",
   "execution_count": 14,
   "outputs": [
    {
     "data": {
      "text/plain": "0.9081632653061225"
     },
     "execution_count": 14,
     "metadata": {},
     "output_type": "execute_result"
    }
   ],
   "source": [
    "# Linear discriminant analysis (LDA) classifier\n",
    "lda = LinearDiscriminantAnalysis()\n",
    "lda.fit(X_train, y_train)\n",
    "lda.score(X_test, y_test)"
   ],
   "metadata": {
    "collapsed": false,
    "pycharm": {
     "name": "#%%\n"
    }
   }
  },
  {
   "cell_type": "code",
   "execution_count": 15,
   "outputs": [
    {
     "data": {
      "text/plain": "0.8877551020408163"
     },
     "execution_count": 15,
     "metadata": {},
     "output_type": "execute_result"
    }
   ],
   "source": [
    "# Quadratic discriminant analysis (QDA) classifier\n",
    "qda = QuadraticDiscriminantAnalysis()\n",
    "qda.fit(X_train, y_train)\n",
    "qda.score(X_test, y_test)"
   ],
   "metadata": {
    "collapsed": false,
    "pycharm": {
     "name": "#%%\n"
    }
   }
  },
  {
   "cell_type": "code",
   "execution_count": 16,
   "outputs": [
    {
     "data": {
      "text/plain": "0.9285714285714286"
     },
     "execution_count": 16,
     "metadata": {},
     "output_type": "execute_result"
    }
   ],
   "source": [
    "# Logistic regression classifier\n",
    "log_reg = LogisticRegression(solver=\"newton-cg\")\n",
    "log_reg.fit(X_train, y_train)\n",
    "log_reg.score(X_test, y_test)"
   ],
   "metadata": {
    "collapsed": false,
    "pycharm": {
     "name": "#%%\n"
    }
   }
  },
  {
   "cell_type": "code",
   "execution_count": 17,
   "outputs": [
    {
     "data": {
      "text/plain": "0.8775510204081632"
     },
     "execution_count": 17,
     "metadata": {},
     "output_type": "execute_result"
    }
   ],
   "source": [
    "# Gaussian Naive Bayes classifier\n",
    "gnb = GaussianNB()\n",
    "gnb.fit(X_train, y_train)\n",
    "gnb.score(X_test, y_test)"
   ],
   "metadata": {
    "collapsed": false,
    "pycharm": {
     "name": "#%%\n"
    }
   }
  },
  {
   "cell_type": "code",
   "execution_count": 18,
   "outputs": [
    {
     "data": {
      "text/plain": "0.8673469387755102"
     },
     "execution_count": 18,
     "metadata": {},
     "output_type": "execute_result"
    }
   ],
   "source": [
    "# 1-Nearest-Neighbor (KNN, K=1) Classifier\n",
    "one_nearest = KNeighborsClassifier(n_neighbors=1)\n",
    "one_nearest.fit(X_train, y_train)\n",
    "one_nearest.score(X_test, y_test)"
   ],
   "metadata": {
    "collapsed": false,
    "pycharm": {
     "name": "#%%\n"
    }
   }
  },
  {
   "cell_type": "code",
   "execution_count": 19,
   "outputs": [
    {
     "data": {
      "text/plain": "0.8775510204081632"
     },
     "execution_count": 19,
     "metadata": {},
     "output_type": "execute_result"
    }
   ],
   "source": [
    "# 2-Nearest-Neighbor (KNN, K=2) Classifier\n",
    "two_nearest = KNeighborsClassifier(n_neighbors=2)\n",
    "two_nearest.fit(X_train, y_train)\n",
    "two_nearest.score(X_test, y_test)"
   ],
   "metadata": {
    "collapsed": false,
    "pycharm": {
     "name": "#%%\n"
    }
   }
  },
  {
   "cell_type": "code",
   "execution_count": 20,
   "outputs": [
    {
     "data": {
      "text/plain": "0.9183673469387755"
     },
     "execution_count": 20,
     "metadata": {},
     "output_type": "execute_result"
    }
   ],
   "source": [
    "# 4-Nearest-Neighbor (KNN, K=4) Classifier\n",
    "four_nearest = KNeighborsClassifier(n_neighbors=4)\n",
    "four_nearest.fit(X_train, y_train)\n",
    "four_nearest.score(X_test, y_test)"
   ],
   "metadata": {
    "collapsed": false,
    "pycharm": {
     "name": "#%%\n"
    }
   }
  },
  {
   "cell_type": "code",
   "execution_count": 21,
   "outputs": [
    {
     "data": {
      "text/plain": "0.8979591836734694"
     },
     "execution_count": 21,
     "metadata": {},
     "output_type": "execute_result"
    }
   ],
   "source": [
    "# 8-Nearest-Neighbor (KNN, K=8) Classifier\n",
    "eight_nearest = KNeighborsClassifier(n_neighbors=8)\n",
    "eight_nearest.fit(X_train, y_train)\n",
    "eight_nearest.score(X_test, y_test)"
   ],
   "metadata": {
    "collapsed": false,
    "pycharm": {
     "name": "#%%\n"
    }
   }
  },
  {
   "cell_type": "markdown",
   "source": [
    "# Cross Validation"
   ],
   "metadata": {
    "collapsed": false,
    "pycharm": {
     "name": "#%% md\n"
    }
   }
  },
  {
   "cell_type": "code",
   "execution_count": 22,
   "outputs": [
    {
     "data": {
      "text/plain": "0.8394352482960077"
     },
     "execution_count": 22,
     "metadata": {},
     "output_type": "execute_result"
    }
   ],
   "source": [
    "# k-Fold Cross Validation (k=5): Logistic Regression\n",
    "np.mean(cross_val_score(log_reg, X, y, cv=5))"
   ],
   "metadata": {
    "collapsed": false,
    "pycharm": {
     "name": "#%%\n"
    }
   }
  },
  {
   "cell_type": "code",
   "execution_count": 23,
   "outputs": [
    {
     "data": {
      "text/plain": "0.8877551020408163"
     },
     "execution_count": 23,
     "metadata": {},
     "output_type": "execute_result"
    }
   ],
   "source": [
    "# Leave-One-Out Cross Validation (LOOCV): Logistic Regression\n",
    "loocv = LeaveOneOut()\n",
    "np.mean(cross_val_score(log_reg, X, y, cv=loocv))"
   ],
   "metadata": {
    "collapsed": false,
    "pycharm": {
     "name": "#%%\n"
    }
   }
  },
  {
   "cell_type": "markdown",
   "source": [
    "# Support Vector Machines (SVMs)"
   ],
   "metadata": {
    "collapsed": false,
    "pycharm": {
     "name": "#%% md\n"
    }
   }
  },
  {
   "cell_type": "code",
   "execution_count": 31,
   "outputs": [
    {
     "data": {
      "text/plain": "[0.8435374149659864, 0.8775510204081632]"
     },
     "execution_count": 31,
     "metadata": {},
     "output_type": "execute_result"
    }
   ],
   "source": [
    "# Linear kernel SVC\n",
    "svc = SVC(random_state=0)\n",
    "svc.fit(X_train, y_train)\n",
    "\n",
    "[svc.score(X_train, y_train), svc.score(X_test, y_test)]"
   ],
   "metadata": {
    "collapsed": false,
    "pycharm": {
     "name": "#%%\n"
    }
   }
  },
  {
   "cell_type": "code",
   "execution_count": 29,
   "outputs": [
    {
     "data": {
      "text/plain": "[0.8333333333333334, 0.8673469387755102]"
     },
     "execution_count": 29,
     "metadata": {},
     "output_type": "execute_result"
    }
   ],
   "source": [
    "# Quadratic kernel SVC\n",
    "tuned_svc = SVC(random_state=0, kernel=\"poly\", degree=2)\n",
    "tuned_svc.fit(X_train, y_train)\n",
    "\n",
    "[tuned_svc.score(X_train, y_train), tuned_svc.score(X_test, y_test)]"
   ],
   "metadata": {
    "collapsed": false,
    "pycharm": {
     "name": "#%%\n"
    }
   }
  },
  {
   "cell_type": "code",
   "execution_count": 32,
   "outputs": [
    {
     "data": {
      "text/plain": "[0.8435374149659864, 0.8775510204081632]"
     },
     "execution_count": 32,
     "metadata": {},
     "output_type": "execute_result"
    }
   ],
   "source": [
    "# Radial basis function kernel SVC\n",
    "tuned_svc = SVC(random_state=0, kernel=\"rbf\")\n",
    "tuned_svc.fit(X_train, y_train)\n",
    "\n",
    "[tuned_svc.score(X_train, y_train), tuned_svc.score(X_test, y_test)]"
   ],
   "metadata": {
    "collapsed": false,
    "pycharm": {
     "name": "#%%\n"
    }
   }
  }
 ],
 "metadata": {
  "kernelspec": {
   "display_name": "Python 3",
   "language": "python",
   "name": "python3"
  },
  "language_info": {
   "codemirror_mode": {
    "name": "ipython",
    "version": 2
   },
   "file_extension": ".py",
   "mimetype": "text/x-python",
   "name": "python",
   "nbconvert_exporter": "python",
   "pygments_lexer": "ipython2",
   "version": "2.7.6"
  }
 },
 "nbformat": 4,
 "nbformat_minor": 0
}