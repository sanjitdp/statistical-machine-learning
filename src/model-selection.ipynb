{
 "cells": [
  {
   "cell_type": "markdown",
   "source": [
    "# Importing Libraries"
   ],
   "metadata": {
    "collapsed": false,
    "pycharm": {
     "name": "#%% md\n"
    }
   }
  },
  {
   "cell_type": "code",
   "execution_count": 414,
   "outputs": [],
   "source": [
    "import math\n",
    "import numpy as np\n",
    "import pandas as pd\n",
    "from itertools import combinations\n",
    "from sklearn.linear_model import LinearRegression\n",
    "from sklearn.linear_model import Lasso, LassoCV\n",
    "from sklearn.model_selection import cross_val_score\n",
    "from sklearn.metrics import mean_squared_error\n",
    "from sklearn.metrics import make_scorer\n",
    "import matplotlib.pyplot as plt"
   ],
   "metadata": {
    "collapsed": false,
    "pycharm": {
     "name": "#%%\n"
    }
   }
  },
  {
   "cell_type": "markdown",
   "source": [
    "# Simulating Data"
   ],
   "metadata": {
    "collapsed": false,
    "pycharm": {
     "name": "#%% md\n"
    }
   }
  },
  {
   "cell_type": "code",
   "execution_count": 415,
   "outputs": [
    {
     "data": {
      "text/plain": "           0\n0  16.004954\n1   2.751889\n2  -1.627573\n3  -0.352291\n4   4.682094",
      "text/html": "<div>\n<style scoped>\n    .dataframe tbody tr th:only-of-type {\n        vertical-align: middle;\n    }\n\n    .dataframe tbody tr th {\n        vertical-align: top;\n    }\n\n    .dataframe thead th {\n        text-align: right;\n    }\n</style>\n<table border=\"1\" class=\"dataframe\">\n  <thead>\n    <tr style=\"text-align: right;\">\n      <th></th>\n      <th>0</th>\n    </tr>\n  </thead>\n  <tbody>\n    <tr>\n      <th>0</th>\n      <td>16.004954</td>\n    </tr>\n    <tr>\n      <th>1</th>\n      <td>2.751889</td>\n    </tr>\n    <tr>\n      <th>2</th>\n      <td>-1.627573</td>\n    </tr>\n    <tr>\n      <th>3</th>\n      <td>-0.352291</td>\n    </tr>\n    <tr>\n      <th>4</th>\n      <td>4.682094</td>\n    </tr>\n  </tbody>\n</table>\n</div>"
     },
     "execution_count": 415,
     "metadata": {},
     "output_type": "execute_result"
    }
   ],
   "source": [
    "X = pd.DataFrame(np.random.normal(size=100))\n",
    "epsilon = pd.DataFrame(np.random.normal(size=100))\n",
    "Y = 5 + 7 * X + 2 * X ** 2 + 3 * X ** 3 + epsilon\n",
    "Y.head()"
   ],
   "metadata": {
    "collapsed": false,
    "pycharm": {
     "name": "#%%\n"
    }
   }
  },
  {
   "cell_type": "code",
   "execution_count": 416,
   "outputs": [
    {
     "data": {
      "text/plain": "     X ** 1    X ** 2    X ** 3    X ** 4    X ** 5        X ** 6  \\\n0  0.928377  0.861883  0.800152  0.742842  0.689638  6.402433e-01   \n1 -0.532517  0.283574 -0.151008  0.080414 -0.042822  2.280350e-02   \n2 -0.975275  0.951161 -0.927643  0.904706 -0.882337  8.605210e-01   \n3 -0.768247  0.590203 -0.453421  0.348339 -0.267610  2.055908e-01   \n4  0.065803  0.004330  0.000285  0.000019  0.000001  8.118743e-08   \n\n         X ** 7        X ** 8        X ** 9       X ** 10  \n0  5.943869e-01  5.518149e-01  5.122920e-01  4.755999e-01  \n1 -1.214325e-02  6.466490e-03 -3.443517e-03  1.833732e-03  \n2 -8.392442e-01  8.184936e-01 -7.982560e-01  7.785188e-01  \n3 -1.579444e-01  1.213402e-01 -9.321922e-02  7.161534e-02  \n4  5.342407e-09  3.515484e-10  2.313307e-11  1.522234e-12  ",
      "text/html": "<div>\n<style scoped>\n    .dataframe tbody tr th:only-of-type {\n        vertical-align: middle;\n    }\n\n    .dataframe tbody tr th {\n        vertical-align: top;\n    }\n\n    .dataframe thead th {\n        text-align: right;\n    }\n</style>\n<table border=\"1\" class=\"dataframe\">\n  <thead>\n    <tr style=\"text-align: right;\">\n      <th></th>\n      <th>X ** 1</th>\n      <th>X ** 2</th>\n      <th>X ** 3</th>\n      <th>X ** 4</th>\n      <th>X ** 5</th>\n      <th>X ** 6</th>\n      <th>X ** 7</th>\n      <th>X ** 8</th>\n      <th>X ** 9</th>\n      <th>X ** 10</th>\n    </tr>\n  </thead>\n  <tbody>\n    <tr>\n      <th>0</th>\n      <td>0.928377</td>\n      <td>0.861883</td>\n      <td>0.800152</td>\n      <td>0.742842</td>\n      <td>0.689638</td>\n      <td>6.402433e-01</td>\n      <td>5.943869e-01</td>\n      <td>5.518149e-01</td>\n      <td>5.122920e-01</td>\n      <td>4.755999e-01</td>\n    </tr>\n    <tr>\n      <th>1</th>\n      <td>-0.532517</td>\n      <td>0.283574</td>\n      <td>-0.151008</td>\n      <td>0.080414</td>\n      <td>-0.042822</td>\n      <td>2.280350e-02</td>\n      <td>-1.214325e-02</td>\n      <td>6.466490e-03</td>\n      <td>-3.443517e-03</td>\n      <td>1.833732e-03</td>\n    </tr>\n    <tr>\n      <th>2</th>\n      <td>-0.975275</td>\n      <td>0.951161</td>\n      <td>-0.927643</td>\n      <td>0.904706</td>\n      <td>-0.882337</td>\n      <td>8.605210e-01</td>\n      <td>-8.392442e-01</td>\n      <td>8.184936e-01</td>\n      <td>-7.982560e-01</td>\n      <td>7.785188e-01</td>\n    </tr>\n    <tr>\n      <th>3</th>\n      <td>-0.768247</td>\n      <td>0.590203</td>\n      <td>-0.453421</td>\n      <td>0.348339</td>\n      <td>-0.267610</td>\n      <td>2.055908e-01</td>\n      <td>-1.579444e-01</td>\n      <td>1.213402e-01</td>\n      <td>-9.321922e-02</td>\n      <td>7.161534e-02</td>\n    </tr>\n    <tr>\n      <th>4</th>\n      <td>0.065803</td>\n      <td>0.004330</td>\n      <td>0.000285</td>\n      <td>0.000019</td>\n      <td>0.000001</td>\n      <td>8.118743e-08</td>\n      <td>5.342407e-09</td>\n      <td>3.515484e-10</td>\n      <td>2.313307e-11</td>\n      <td>1.522234e-12</td>\n    </tr>\n  </tbody>\n</table>\n</div>"
     },
     "execution_count": 416,
     "metadata": {},
     "output_type": "execute_result"
    }
   ],
   "source": [
    "df = pd.DataFrame()\n",
    "for i in range(10):\n",
    "    df[\"X ** \" + str(i+1)] = X ** (i+1)\n",
    "\n",
    "X = df\n",
    "X.head()"
   ],
   "metadata": {
    "collapsed": false,
    "pycharm": {
     "name": "#%%\n"
    }
   }
  },
  {
   "cell_type": "markdown",
   "source": [
    "# Best Subset Selection"
   ],
   "metadata": {
    "collapsed": false,
    "pycharm": {
     "name": "#%% md\n"
    }
   }
  },
  {
   "cell_type": "code",
   "execution_count": 417,
   "outputs": [
    {
     "data": {
      "text/plain": "[[LinearRegression(), 1554.6009621415049],\n [LinearRegression(), 554.2908441589054],\n [LinearRegression(), 104.61619831155993],\n [LinearRegression(), 102.56592440114869],\n [LinearRegression(), 100.28805249657296],\n [LinearRegression(), 98.14642482740497],\n [LinearRegression(), 97.62015418886588],\n [LinearRegression(), 97.07962283415725],\n [LinearRegression(), 96.46846521580687],\n [LinearRegression(), 96.4309519984332]]"
     },
     "execution_count": 417,
     "metadata": {},
     "output_type": "execute_result"
    }
   ],
   "source": [
    "# Return best regression models with k predictors\n",
    "best_models = []\n",
    "\n",
    "m = X.shape[1]\n",
    "for k in range(1, m+1):\n",
    "    min_RSS = np.inf\n",
    "    best_model = []\n",
    "    for combo in combinations(X.columns, k):\n",
    "        lm = LinearRegression()\n",
    "        lm.fit(X[list(combo)], Y)\n",
    "        Y_predict = lm.predict(X[list(combo)])\n",
    "        RSS = np.sum(np.square(Y - Y_predict))[0]\n",
    "        if RSS < min_RSS:\n",
    "            min_RSS = RSS\n",
    "            best_model = lm\n",
    "\n",
    "    best_models.append([best_model, min_RSS])\n",
    "\n",
    "best_models"
   ],
   "metadata": {
    "collapsed": false,
    "pycharm": {
     "name": "#%%\n"
    }
   }
  },
  {
   "cell_type": "code",
   "execution_count": 418,
   "outputs": [
    {
     "data": {
      "text/plain": "0.9869397246976099"
     },
     "execution_count": 418,
     "metadata": {},
     "output_type": "execute_result"
    }
   ],
   "source": [
    "# Estimating variance of error epsilon\n",
    "n = Y.size\n",
    "\n",
    "var_estimate = math.sqrt(1/(n-1) * best_models[-1][1])\n",
    "var_estimate"
   ],
   "metadata": {
    "collapsed": false,
    "pycharm": {
     "name": "#%%\n"
    }
   }
  },
  {
   "cell_type": "code",
   "execution_count": 419,
   "outputs": [
    {
     "data": {
      "text/plain": "<Figure size 432x288 with 1 Axes>",
      "image/png": "[encoded data removed]"
     },
     "metadata": {
      "needs_background": "light"
     },
     "output_type": "display_data"
    }
   ],
   "source": [
    "# Mallows' C_p statistic - same as Akaike Information Criterion (AIC) with Gaussian errors\n",
    "C_p = []\n",
    "for d in range(m):\n",
    "    C_p.append(1/n * (best_models[d][1] + 2 * d * var_estimate))\n",
    "\n",
    "plt.plot(range(1, m+1), C_p, marker=\"o\", ms=5)\n",
    "plt.plot(np.argmin(C_p) + 1, min(C_p), marker=\"x\", ms=10)\n",
    "\n",
    "plt.xlabel(\"number of predictors\")\n",
    "plt.ylabel(\"Mallows' C_p\")\n",
    "\n",
    "plt.show()"
   ],
   "metadata": {
    "collapsed": false,
    "pycharm": {
     "name": "#%%\n"
    }
   }
  },
  {
   "cell_type": "code",
   "execution_count": 420,
   "outputs": [
    {
     "data": {
      "text/plain": "<Figure size 432x288 with 1 Axes>",
      "image/png": "[encoded data removed]"
     },
     "metadata": {
      "needs_background": "light"
     },
     "output_type": "display_data"
    }
   ],
   "source": [
    "# Bayesian Information Criterion (BIC)\n",
    "BIC = []\n",
    "for d in range(m):\n",
    "    BIC.append(1/n * (best_models[d][1] + np.log(n) * d * var_estimate))\n",
    "\n",
    "plt.plot(range(1, m+1), BIC, marker=\"o\", ms=5)\n",
    "plt.plot(np.argmin(BIC) + 1, min(BIC), marker=\"x\", ms=10)\n",
    "\n",
    "plt.xlabel(\"number of predictors\")\n",
    "plt.ylabel(\"BIC\")\n",
    "\n",
    "plt.show()"
   ],
   "metadata": {
    "collapsed": false,
    "pycharm": {
     "name": "#%%\n"
    }
   }
  },
  {
   "cell_type": "code",
   "execution_count": 421,
   "outputs": [
    {
     "data": {
      "text/plain": "<Figure size 432x288 with 1 Axes>",
      "image/png": "[encoded data removed]"
     },
     "metadata": {
      "needs_background": "light"
     },
     "output_type": "display_data"
    }
   ],
   "source": [
    "# Adjusted R^2\n",
    "adj_R2 = []\n",
    "TSS = np.sum(np.square(Y - Y.mean()))[0]\n",
    "for d in range(m):\n",
    "    adj_R2.append(1 - (best_models[d][1] / (n-d-1)) / (TSS / (n-1)))\n",
    "\n",
    "plt.plot(range(1, m+1), adj_R2, marker=\"o\", ms=5)\n",
    "plt.plot(np.argmax(adj_R2) + 1, max(adj_R2), marker=\"x\", ms=10)\n",
    "\n",
    "plt.xlabel(\"number of predictors\")\n",
    "plt.ylabel(\"Adjusted R^2\")\n",
    "\n",
    "plt.show()"
   ],
   "metadata": {
    "collapsed": false,
    "pycharm": {
     "name": "#%%\n"
    }
   }
  },
  {
   "cell_type": "markdown",
   "source": [
    "# Forward Stepwise Selection"
   ],
   "metadata": {
    "collapsed": false,
    "pycharm": {
     "name": "#%% md\n"
    }
   }
  },
  {
   "cell_type": "code",
   "execution_count": 422,
   "outputs": [
    {
     "data": {
      "text/plain": "[[LinearRegression(), 1554.6009621415049, ['X ** 3']],\n [LinearRegression(), 554.2908441589054, ['X ** 3', 'X ** 1']],\n [LinearRegression(), 104.61619831155993, ['X ** 3', 'X ** 1', 'X ** 2']],\n [LinearRegression(),\n  102.56592440114865,\n  ['X ** 3', 'X ** 1', 'X ** 2', 'X ** 10']],\n [LinearRegression(),\n  101.46601582991177,\n  ['X ** 3', 'X ** 1', 'X ** 2', 'X ** 10', 'X ** 8']],\n [LinearRegression(),\n  98.14642482740494,\n  ['X ** 3', 'X ** 1', 'X ** 2', 'X ** 10', 'X ** 8', 'X ** 9']],\n [LinearRegression(),\n  97.62015418886583,\n  ['X ** 3', 'X ** 1', 'X ** 2', 'X ** 10', 'X ** 8', 'X ** 9', 'X ** 6']],\n [LinearRegression(),\n  97.07962283415723,\n  ['X ** 3',\n   'X ** 1',\n   'X ** 2',\n   'X ** 10',\n   'X ** 8',\n   'X ** 9',\n   'X ** 6',\n   'X ** 5']],\n [LinearRegression(),\n  96.57614165948361,\n  ['X ** 3',\n   'X ** 1',\n   'X ** 2',\n   'X ** 10',\n   'X ** 8',\n   'X ** 9',\n   'X ** 6',\n   'X ** 5',\n   'X ** 4']],\n [LinearRegression(),\n  96.43095199843322,\n  ['X ** 3',\n   'X ** 1',\n   'X ** 2',\n   'X ** 10',\n   'X ** 8',\n   'X ** 9',\n   'X ** 6',\n   'X ** 5',\n   'X ** 4',\n   'X ** 7']]]"
     },
     "execution_count": 422,
     "metadata": {},
     "output_type": "execute_result"
    }
   ],
   "source": [
    "# Find best models with k\n",
    "best_models = []\n",
    "\n",
    "m = X.shape[1]\n",
    "for k in range(m):\n",
    "    min_RSS = np.inf\n",
    "    best_model = []\n",
    "    best_features = []\n",
    "\n",
    "    if k == 0:\n",
    "        prev_features = []\n",
    "    else:\n",
    "        prev_features = best_models[k-1][2]\n",
    "\n",
    "    for feature in X.columns:\n",
    "        if feature not in prev_features:\n",
    "            features = prev_features + [feature]\n",
    "            lm = LinearRegression()\n",
    "            lm.fit(X[features], Y)\n",
    "            Y_predict = lm.predict(X[features])\n",
    "            RSS = np.sum(np.square(Y - Y_predict))[0]\n",
    "            if RSS < min_RSS:\n",
    "                min_RSS = RSS\n",
    "                best_model = lm\n",
    "                best_features = features\n",
    "\n",
    "    best_models.append([best_model, min_RSS, best_features])\n",
    "\n",
    "best_models"
   ],
   "metadata": {
    "collapsed": false,
    "pycharm": {
     "name": "#%%\n"
    }
   }
  },
  {
   "cell_type": "code",
   "execution_count": 423,
   "outputs": [
    {
     "data": {
      "text/plain": "0.9869397246976099"
     },
     "execution_count": 423,
     "metadata": {},
     "output_type": "execute_result"
    }
   ],
   "source": [
    "# Estimating variance of error epsilon\n",
    "n = Y.size\n",
    "\n",
    "var_estimate = math.sqrt(1/(n-1) * best_models[-1][1])\n",
    "var_estimate"
   ],
   "metadata": {
    "collapsed": false,
    "pycharm": {
     "name": "#%%\n"
    }
   }
  },
  {
   "cell_type": "code",
   "execution_count": 424,
   "outputs": [
    {
     "data": {
      "text/plain": "<Figure size 432x288 with 1 Axes>",
      "image/png": "[encoded data removed]"
     },
     "metadata": {
      "needs_background": "light"
     },
     "output_type": "display_data"
    }
   ],
   "source": [
    "# Mallows' C_p statistic - same as Akaike Information Criterion (AIC) with Gaussian errors\n",
    "C_p = []\n",
    "for d in range(m):\n",
    "    C_p.append(1/n * (best_models[d][1] + 2 * d * var_estimate))\n",
    "\n",
    "plt.plot(range(1, m+1), C_p, marker=\"o\", ms=5)\n",
    "plt.plot(np.argmin(C_p) + 1, min(C_p), marker=\"x\", ms=10)\n",
    "\n",
    "plt.xlabel(\"number of predictors\")\n",
    "plt.ylabel(\"Mallows' C_p\")\n",
    "\n",
    "plt.show()"
   ],
   "metadata": {
    "collapsed": false,
    "pycharm": {
     "name": "#%%\n"
    }
   }
  },
  {
   "cell_type": "code",
   "execution_count": 425,
   "outputs": [
    {
     "data": {
      "text/plain": "<Figure size 432x288 with 1 Axes>",
      "image/png": "[encoded data removed]"
     },
     "metadata": {
      "needs_background": "light"
     },
     "output_type": "display_data"
    }
   ],
   "source": [
    "# Bayesian Information Criterion (BIC)\n",
    "BIC = []\n",
    "for d in range(m):\n",
    "    BIC.append(1/n * (best_models[d][1] + np.log(n) * d * var_estimate))\n",
    "\n",
    "plt.plot(range(1, m+1), BIC, marker=\"o\", ms=5)\n",
    "plt.plot(np.argmin(BIC) + 1, min(BIC), marker=\"x\", ms=10)\n",
    "\n",
    "plt.xlabel(\"number of predictors\")\n",
    "plt.ylabel(\"BIC\")\n",
    "\n",
    "plt.show()"
   ],
   "metadata": {
    "collapsed": false,
    "pycharm": {
     "name": "#%%\n"
    }
   }
  },
  {
   "cell_type": "code",
   "execution_count": 426,
   "outputs": [
    {
     "data": {
      "text/plain": "<Figure size 432x288 with 1 Axes>",
      "image/png": "[encoded data removed]"
     },
     "metadata": {
      "needs_background": "light"
     },
     "output_type": "display_data"
    }
   ],
   "source": [
    "# Adjusted R^2\n",
    "adj_R2 = []\n",
    "TSS = np.sum(np.square(Y - Y.mean()))[0]\n",
    "for d in range(m):\n",
    "    adj_R2.append(1 - (best_models[d][1] / (n-d-1)) / (TSS / (n-1)))\n",
    "\n",
    "plt.plot(range(1, m+1), adj_R2, marker=\"o\", ms=5)\n",
    "plt.plot(np.argmax(adj_R2) + 1, max(adj_R2), marker=\"x\", ms=10)\n",
    "\n",
    "plt.xlabel(\"number of predictors\")\n",
    "plt.ylabel(\"Adjusted R^2\")\n",
    "\n",
    "plt.show()"
   ],
   "metadata": {
    "collapsed": false,
    "pycharm": {
     "name": "#%%\n"
    }
   }
  },
  {
   "cell_type": "markdown",
   "source": [
    "# Backward Stepwise Selection"
   ],
   "metadata": {
    "collapsed": false,
    "pycharm": {
     "name": "#%% md\n"
    }
   }
  },
  {
   "cell_type": "code",
   "execution_count": 427,
   "outputs": [],
   "source": [
    "# Find best models with k\n",
    "best_models = []\n",
    "\n",
    "m = X.shape[1]\n",
    "for k in range(m):\n",
    "    min_RSS = np.inf\n",
    "    best_model = []\n",
    "    best_features = []\n",
    "\n",
    "    if k == 0:\n",
    "        lm = LinearRegression()\n",
    "        lm.fit(X, Y)\n",
    "        Y_predict = lm.predict(X)\n",
    "        RSS = np.sum(np.square(Y - Y_predict))[0]\n",
    "        best_models.append([lm, RSS, list(X.columns)])\n",
    "        continue\n",
    "\n",
    "    prev_features = best_models[k-1][2]\n",
    "    for feature in prev_features:\n",
    "        features = list(set(prev_features) - {feature})\n",
    "        lm = LinearRegression()\n",
    "        lm.fit(X[features], Y)\n",
    "        Y_predict = lm.predict(X[features])\n",
    "        RSS = np.sum(np.square(Y - Y_predict))[0]\n",
    "        if RSS < min_RSS:\n",
    "            min_RSS = RSS\n",
    "            best_model = lm\n",
    "            best_features = features\n",
    "\n",
    "    best_models.append([best_model, min_RSS, best_features])\n",
    "\n",
    "best_models.reverse()"
   ],
   "metadata": {
    "collapsed": false,
    "pycharm": {
     "name": "#%%\n"
    }
   }
  },
  {
   "cell_type": "code",
   "execution_count": 428,
   "outputs": [
    {
     "data": {
      "text/plain": "0.9869397246976099"
     },
     "execution_count": 428,
     "metadata": {},
     "output_type": "execute_result"
    }
   ],
   "source": [
    "# Estimating variance of error epsilon\n",
    "n = Y.size\n",
    "\n",
    "var_estimate = math.sqrt(1/(n-1) * best_models[-1][1])\n",
    "var_estimate"
   ],
   "metadata": {
    "collapsed": false,
    "pycharm": {
     "name": "#%%\n"
    }
   }
  },
  {
   "cell_type": "code",
   "execution_count": 429,
   "outputs": [
    {
     "data": {
      "text/plain": "<Figure size 432x288 with 1 Axes>",
      "image/png": "[encoded data removed]"
     },
     "metadata": {
      "needs_background": "light"
     },
     "output_type": "display_data"
    }
   ],
   "source": [
    "# Mallows' C_p statistic - same as Akaike Information Criterion (AIC) with Gaussian errors\n",
    "C_p = []\n",
    "for d in range(m):\n",
    "    C_p.append(1/n * (best_models[d][1] + 2 * d * var_estimate))\n",
    "\n",
    "plt.plot(range(1, m+1), C_p, marker=\"o\", ms=5)\n",
    "plt.plot(np.argmin(C_p) + 1, min(C_p), marker=\"x\", ms=10)\n",
    "\n",
    "plt.xlabel(\"number of predictors\")\n",
    "plt.ylabel(\"Mallows' C_p\")\n",
    "\n",
    "plt.show()"
   ],
   "metadata": {
    "collapsed": false,
    "pycharm": {
     "name": "#%%\n"
    }
   }
  },
  {
   "cell_type": "code",
   "execution_count": 430,
   "outputs": [
    {
     "data": {
      "text/plain": "<Figure size 432x288 with 1 Axes>",
      "image/png": "[encoded data removed]"
     },
     "metadata": {
      "needs_background": "light"
     },
     "output_type": "display_data"
    }
   ],
   "source": [
    "# Bayesian Information Criterion (BIC)\n",
    "BIC = []\n",
    "for d in range(m):\n",
    "    BIC.append(1/n * (best_models[d][1] + np.log(n) * d * var_estimate))\n",
    "\n",
    "plt.plot(range(1, m+1), BIC, marker=\"o\", ms=5)\n",
    "plt.plot(np.argmin(BIC) + 1, min(BIC), marker=\"x\", ms=10)\n",
    "\n",
    "plt.xlabel(\"number of predictors\")\n",
    "plt.ylabel(\"BIC\")\n",
    "\n",
    "plt.show()"
   ],
   "metadata": {
    "collapsed": false,
    "pycharm": {
     "name": "#%%\n"
    }
   }
  },
  {
   "cell_type": "code",
   "execution_count": 431,
   "outputs": [
    {
     "data": {
      "text/plain": "<Figure size 432x288 with 1 Axes>",
      "image/png": "[encoded data removed]"
     },
     "metadata": {
      "needs_background": "light"
     },
     "output_type": "display_data"
    }
   ],
   "source": [
    "# Adjusted R^2\n",
    "adj_R2 = []\n",
    "TSS = np.sum(np.square(Y - Y.mean()))[0]\n",
    "for d in range(m):\n",
    "    adj_R2.append(1 - (best_models[d][1] / (n-d-1)) / (TSS / (n-1)))\n",
    "\n",
    "plt.plot(range(1, m+1), adj_R2, marker=\"o\", ms=5)\n",
    "plt.plot(np.argmax(adj_R2) + 1, max(adj_R2), marker=\"x\", ms=10)\n",
    "\n",
    "plt.xlabel(\"number of predictors\")\n",
    "plt.ylabel(\"Adjusted R^2\")\n",
    "\n",
    "plt.show()"
   ],
   "metadata": {
    "collapsed": false,
    "pycharm": {
     "name": "#%%\n"
    }
   }
  },
  {
   "cell_type": "markdown",
   "source": [
    "# Lasso Regression Model"
   ],
   "metadata": {
    "collapsed": false,
    "pycharm": {
     "name": "#%% md\n"
    }
   }
  },
  {
   "cell_type": "code",
   "execution_count": 432,
   "outputs": [
    {
     "data": {
      "text/plain": "<Figure size 432x288 with 1 Axes>",
      "image/png": "[encoded data removed]"
     },
     "metadata": {
      "needs_background": "light"
     },
     "output_type": "display_data"
    }
   ],
   "source": [
    "# Using cross-validation to select optimal alpha value for the lasso\n",
    "alpha_vals = math.e ** np.linspace(-10, 2, 100)\n",
    "\n",
    "scores = []\n",
    "\n",
    "X_reg = (X - X.mean()) / X.std()\n",
    "Y_reg = (Y - Y.mean()) / Y.std()\n",
    "\n",
    "for alpha in alpha_vals:\n",
    "    lasso_reg = Lasso(alpha=alpha, max_iter=100000)\n",
    "    lasso_reg.fit(X_reg, Y_reg)\n",
    "    Y_predict = lasso_reg.predict(X_reg).reshape(-1, 1)\n",
    "    score = np.mean(cross_val_score(lasso_reg, X_reg, Y_reg, scoring=make_scorer(mean_squared_error), cv=5))\n",
    "    scores.append(score)\n",
    "\n",
    "best_alpha = alpha_vals[np.argmin(scores)]\n",
    "\n",
    "plt.plot(np.log(alpha_vals), scores, marker=\"o\", ms=3)\n",
    "plt.plot(np.log(best_alpha), min(scores), marker=\"x\", ms=10)\n",
    "plt.xlabel(\"log(alpha)\")\n",
    "plt.ylabel(\"Cross-validated MSE\")\n",
    "\n",
    "plt.show()"
   ],
   "metadata": {
    "collapsed": false,
    "pycharm": {
     "name": "#%%\n"
    }
   }
  },
  {
   "cell_type": "code",
   "execution_count": 433,
   "outputs": [
    {
     "data": {
      "text/plain": "array([0.47693049, 0.151009  , 0.50834193, 0.        , 0.        ,\n       0.        , 0.        , 0.        , 0.        , 0.01532999])"
     },
     "execution_count": 433,
     "metadata": {},
     "output_type": "execute_result"
    }
   ],
   "source": [
    "# Fit optimal Lasso regression model found above\n",
    "lasso_reg = Lasso(alpha=best_alpha)\n",
    "lasso_reg.fit(X_reg, Y_reg)\n",
    "lasso_reg.coef_"
   ],
   "metadata": {
    "collapsed": false,
    "pycharm": {
     "name": "#%%\n"
    }
   }
  },
  {
   "cell_type": "code",
   "execution_count": 434,
   "outputs": [
    {
     "data": {
      "text/plain": "array([0.47706031, 0.15106912, 0.50827265, 0.        , 0.        ,\n       0.        , 0.        , 0.        , 0.        , 0.01539728])"
     },
     "execution_count": 434,
     "metadata": {},
     "output_type": "execute_result"
    }
   ],
   "source": [
    "# Checking work\n",
    "lasso_cv = LassoCV()\n",
    "lasso_cv.fit(X_reg, np.ravel(Y_reg))\n",
    "lasso_cv.coef_"
   ],
   "metadata": {
    "collapsed": false,
    "pycharm": {
     "name": "#%%\n"
    }
   }
  }
 ],
 "metadata": {
  "kernelspec": {
   "display_name": "Python 3",
   "language": "python",
   "name": "python3"
  },
  "language_info": {
   "codemirror_mode": {
    "name": "ipython",
    "version": 2
   },
   "file_extension": ".py",
   "mimetype": "text/x-python",
   "name": "python",
   "nbconvert_exporter": "python",
   "pygments_lexer": "ipython2",
   "version": "2.7.6"
  }
 },
 "nbformat": 4,
 "nbformat_minor": 0
}